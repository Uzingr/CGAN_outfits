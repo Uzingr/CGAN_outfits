{
 "cells": [
  {
   "cell_type": "markdown",
   "source": [
    "Definiamo ora il Dataset di Training di Accessories"
   ],
   "metadata": {
    "collapsed": false
   },
   "id": "14ad6e76a886522b"
  },
  {
   "cell_type": "markdown",
   "source": [
    "Dato la grande mole di immagini e categorie differenti per quanto riguarda gli accessories scegliamo semplicemente una delle tipologie di accessories, per esempio la cintura (belt) e creiamo un dataset solo di cinture"
   ],
   "metadata": {
    "collapsed": false
   },
   "id": "889e2d2d91488e43"
  },
  {
   "cell_type": "code",
   "execution_count": 13,
   "outputs": [
    {
     "name": "stdout",
     "output_type": "stream",
     "text": [
      "['C:/Users/marce/Desktop/polyvore_outfits/images/100316403.jpg', 'C:/Users/marce/Desktop/polyvore_outfits/images/1003311.jpg', 'C:/Users/marce/Desktop/polyvore_outfits/images/100357175.jpg', 'C:/Users/marce/Desktop/polyvore_outfits/images/100481808.jpg', 'C:/Users/marce/Desktop/polyvore_outfits/images/100584066.jpg', 'C:/Users/marce/Desktop/polyvore_outfits/images/100610395.jpg', 'C:/Users/marce/Desktop/polyvore_outfits/images/100659317.jpg', 'C:/Users/marce/Desktop/polyvore_outfits/images/100817944.jpg', 'C:/Users/marce/Desktop/polyvore_outfits/images/100886839.jpg', 'C:/Users/marce/Desktop/polyvore_outfits/images/100892209.jpg', 'C:/Users/marce/Desktop/polyvore_outfits/images/101215241.jpg', 'C:/Users/marce/Desktop/polyvore_outfits/images/101369282.jpg', 'C:/Users/marce/Desktop/polyvore_outfits/images/101609698.jpg', 'C:/Users/marce/Desktop/polyvore_outfits/images/101711354.jpg', 'C:/Users/marce/Desktop/polyvore_outfits/images/102743235.jpg', 'C:/Users/marce/Desktop/polyvore_outfits/images/102883884.jpg', 'C:/Users/marce/Desktop/polyvore_outfits/images/102923417.jpg', 'C:/Users/marce/Desktop/polyvore_outfits/images/102940263.jpg', 'C:/Users/marce/Desktop/polyvore_outfits/images/102965001.jpg', 'C:/Users/marce/Desktop/polyvore_outfits/images/103236737.jpg', 'C:/Users/marce/Desktop/polyvore_outfits/images/103254361.jpg', 'C:/Users/marce/Desktop/polyvore_outfits/images/103548744.jpg', 'C:/Users/marce/Desktop/polyvore_outfits/images/103548752.jpg', 'C:/Users/marce/Desktop/polyvore_outfits/images/103652433.jpg', 'C:/Users/marce/Desktop/polyvore_outfits/images/104393931.jpg', 'C:/Users/marce/Desktop/polyvore_outfits/images/104394296.jpg', 'C:/Users/marce/Desktop/polyvore_outfits/images/104626831.jpg', 'C:/Users/marce/Desktop/polyvore_outfits/images/104734700.jpg', 'C:/Users/marce/Desktop/polyvore_outfits/images/104792317.jpg', 'C:/Users/marce/Desktop/polyvore_outfits/images/104886457.jpg', 'C:/Users/marce/Desktop/polyvore_outfits/images/104982806.jpg', 'C:/Users/marce/Desktop/polyvore_outfits/images/105045137.jpg', 'C:/Users/marce/Desktop/polyvore_outfits/images/105214459.jpg', 'C:/Users/marce/Desktop/polyvore_outfits/images/105465417.jpg', 'C:/Users/marce/Desktop/polyvore_outfits/images/105670392.jpg', 'C:/Users/marce/Desktop/polyvore_outfits/images/105687217.jpg', 'C:/Users/marce/Desktop/polyvore_outfits/images/105985543.jpg', 'C:/Users/marce/Desktop/polyvore_outfits/images/105995802.jpg', 'C:/Users/marce/Desktop/polyvore_outfits/images/106356723.jpg', 'C:/Users/marce/Desktop/polyvore_outfits/images/106428754.jpg', 'C:/Users/marce/Desktop/polyvore_outfits/images/106725046.jpg', 'C:/Users/marce/Desktop/polyvore_outfits/images/107417462.jpg', 'C:/Users/marce/Desktop/polyvore_outfits/images/107671747.jpg', 'C:/Users/marce/Desktop/polyvore_outfits/images/107763476.jpg', 'C:/Users/marce/Desktop/polyvore_outfits/images/107842779.jpg', 'C:/Users/marce/Desktop/polyvore_outfits/images/107876122.jpg', 'C:/Users/marce/Desktop/polyvore_outfits/images/108057888.jpg', 'C:/Users/marce/Desktop/polyvore_outfits/images/108196067.jpg', 'C:/Users/marce/Desktop/polyvore_outfits/images/108582482.jpg', 'C:/Users/marce/Desktop/polyvore_outfits/images/108751009.jpg', 'C:/Users/marce/Desktop/polyvore_outfits/images/108967800.jpg', 'C:/Users/marce/Desktop/polyvore_outfits/images/109140682.jpg', 'C:/Users/marce/Desktop/polyvore_outfits/images/109454293.jpg', 'C:/Users/marce/Desktop/polyvore_outfits/images/109458300.jpg', 'C:/Users/marce/Desktop/polyvore_outfits/images/109753955.jpg', 'C:/Users/marce/Desktop/polyvore_outfits/images/109983308.jpg', 'C:/Users/marce/Desktop/polyvore_outfits/images/110060598.jpg', 'C:/Users/marce/Desktop/polyvore_outfits/images/110354610.jpg', 'C:/Users/marce/Desktop/polyvore_outfits/images/110461231.jpg', 'C:/Users/marce/Desktop/polyvore_outfits/images/110578684.jpg', 'C:/Users/marce/Desktop/polyvore_outfits/images/110789206.jpg', 'C:/Users/marce/Desktop/polyvore_outfits/images/110810640.jpg', 'C:/Users/marce/Desktop/polyvore_outfits/images/110874909.jpg', 'C:/Users/marce/Desktop/polyvore_outfits/images/111039040.jpg', 'C:/Users/marce/Desktop/polyvore_outfits/images/111223146.jpg', 'C:/Users/marce/Desktop/polyvore_outfits/images/111365775.jpg', 'C:/Users/marce/Desktop/polyvore_outfits/images/111365925.jpg', 'C:/Users/marce/Desktop/polyvore_outfits/images/111430669.jpg', 'C:/Users/marce/Desktop/polyvore_outfits/images/111609296.jpg', 'C:/Users/marce/Desktop/polyvore_outfits/images/111611955.jpg', 'C:/Users/marce/Desktop/polyvore_outfits/images/111723364.jpg', 'C:/Users/marce/Desktop/polyvore_outfits/images/111773456.jpg', 'C:/Users/marce/Desktop/polyvore_outfits/images/111865108.jpg', 'C:/Users/marce/Desktop/polyvore_outfits/images/112000276.jpg', 'C:/Users/marce/Desktop/polyvore_outfits/images/112169045.jpg', 'C:/Users/marce/Desktop/polyvore_outfits/images/112321252.jpg', 'C:/Users/marce/Desktop/polyvore_outfits/images/112322980.jpg', 'C:/Users/marce/Desktop/polyvore_outfits/images/112586630.jpg', 'C:/Users/marce/Desktop/polyvore_outfits/images/113100457.jpg', 'C:/Users/marce/Desktop/polyvore_outfits/images/113138254.jpg', 'C:/Users/marce/Desktop/polyvore_outfits/images/113277610.jpg', 'C:/Users/marce/Desktop/polyvore_outfits/images/113601205.jpg', 'C:/Users/marce/Desktop/polyvore_outfits/images/113627787.jpg', 'C:/Users/marce/Desktop/polyvore_outfits/images/113692005.jpg', 'C:/Users/marce/Desktop/polyvore_outfits/images/113751264.jpg', 'C:/Users/marce/Desktop/polyvore_outfits/images/113751665.jpg', 'C:/Users/marce/Desktop/polyvore_outfits/images/113805757.jpg', 'C:/Users/marce/Desktop/polyvore_outfits/images/113806314.jpg', 'C:/Users/marce/Desktop/polyvore_outfits/images/113963244.jpg', 'C:/Users/marce/Desktop/polyvore_outfits/images/114371298.jpg', 'C:/Users/marce/Desktop/polyvore_outfits/images/114582394.jpg', 'C:/Users/marce/Desktop/polyvore_outfits/images/114951164.jpg', 'C:/Users/marce/Desktop/polyvore_outfits/images/114997420.jpg', 'C:/Users/marce/Desktop/polyvore_outfits/images/115016658.jpg', 'C:/Users/marce/Desktop/polyvore_outfits/images/115058801.jpg', 'C:/Users/marce/Desktop/polyvore_outfits/images/115084290.jpg', 'C:/Users/marce/Desktop/polyvore_outfits/images/115161404.jpg', 'C:/Users/marce/Desktop/polyvore_outfits/images/115355622.jpg', 'C:/Users/marce/Desktop/polyvore_outfits/images/115822354.jpg', 'C:/Users/marce/Desktop/polyvore_outfits/images/115856935.jpg', 'C:/Users/marce/Desktop/polyvore_outfits/images/116349710.jpg', 'C:/Users/marce/Desktop/polyvore_outfits/images/116557761.jpg', 'C:/Users/marce/Desktop/polyvore_outfits/images/117127878.jpg', 'C:/Users/marce/Desktop/polyvore_outfits/images/117197390.jpg', 'C:/Users/marce/Desktop/polyvore_outfits/images/117324120.jpg', 'C:/Users/marce/Desktop/polyvore_outfits/images/118029131.jpg', 'C:/Users/marce/Desktop/polyvore_outfits/images/118049785.jpg', 'C:/Users/marce/Desktop/polyvore_outfits/images/118164600.jpg', 'C:/Users/marce/Desktop/polyvore_outfits/images/118525137.jpg', 'C:/Users/marce/Desktop/polyvore_outfits/images/118906296.jpg', 'C:/Users/marce/Desktop/polyvore_outfits/images/118984962.jpg', 'C:/Users/marce/Desktop/polyvore_outfits/images/119073792.jpg', 'C:/Users/marce/Desktop/polyvore_outfits/images/119284206.jpg', 'C:/Users/marce/Desktop/polyvore_outfits/images/119537576.jpg', 'C:/Users/marce/Desktop/polyvore_outfits/images/119935126.jpg', 'C:/Users/marce/Desktop/polyvore_outfits/images/120450672.jpg', 'C:/Users/marce/Desktop/polyvore_outfits/images/120530522.jpg', 'C:/Users/marce/Desktop/polyvore_outfits/images/120656908.jpg', 'C:/Users/marce/Desktop/polyvore_outfits/images/120670123.jpg', 'C:/Users/marce/Desktop/polyvore_outfits/images/120675713.jpg', 'C:/Users/marce/Desktop/polyvore_outfits/images/120676007.jpg', 'C:/Users/marce/Desktop/polyvore_outfits/images/121357945.jpg', 'C:/Users/marce/Desktop/polyvore_outfits/images/121447210.jpg', 'C:/Users/marce/Desktop/polyvore_outfits/images/121494213.jpg', 'C:/Users/marce/Desktop/polyvore_outfits/images/121646286.jpg', 'C:/Users/marce/Desktop/polyvore_outfits/images/121656782.jpg', 'C:/Users/marce/Desktop/polyvore_outfits/images/121735390.jpg', 'C:/Users/marce/Desktop/polyvore_outfits/images/121735875.jpg', 'C:/Users/marce/Desktop/polyvore_outfits/images/122072398.jpg', 'C:/Users/marce/Desktop/polyvore_outfits/images/12224355.jpg', 'C:/Users/marce/Desktop/polyvore_outfits/images/12226656.jpg', 'C:/Users/marce/Desktop/polyvore_outfits/images/122435201.jpg', 'C:/Users/marce/Desktop/polyvore_outfits/images/122520711.jpg', 'C:/Users/marce/Desktop/polyvore_outfits/images/122544406.jpg', 'C:/Users/marce/Desktop/polyvore_outfits/images/122839548.jpg', 'C:/Users/marce/Desktop/polyvore_outfits/images/122957327.jpg', 'C:/Users/marce/Desktop/polyvore_outfits/images/123309566.jpg', 'C:/Users/marce/Desktop/polyvore_outfits/images/123528799.jpg', 'C:/Users/marce/Desktop/polyvore_outfits/images/123847830.jpg', 'C:/Users/marce/Desktop/polyvore_outfits/images/124049044.jpg', 'C:/Users/marce/Desktop/polyvore_outfits/images/124062189.jpg', 'C:/Users/marce/Desktop/polyvore_outfits/images/124125984.jpg', 'C:/Users/marce/Desktop/polyvore_outfits/images/124184976.jpg', 'C:/Users/marce/Desktop/polyvore_outfits/images/124434255.jpg', 'C:/Users/marce/Desktop/polyvore_outfits/images/124718229.jpg', 'C:/Users/marce/Desktop/polyvore_outfits/images/124972467.jpg', 'C:/Users/marce/Desktop/polyvore_outfits/images/125113332.jpg', 'C:/Users/marce/Desktop/polyvore_outfits/images/125307367.jpg', 'C:/Users/marce/Desktop/polyvore_outfits/images/125504751.jpg', 'C:/Users/marce/Desktop/polyvore_outfits/images/125521085.jpg', 'C:/Users/marce/Desktop/polyvore_outfits/images/125556182.jpg', 'C:/Users/marce/Desktop/polyvore_outfits/images/125694853.jpg', 'C:/Users/marce/Desktop/polyvore_outfits/images/125788500.jpg', 'C:/Users/marce/Desktop/polyvore_outfits/images/125984367.jpg', 'C:/Users/marce/Desktop/polyvore_outfits/images/126349844.jpg', 'C:/Users/marce/Desktop/polyvore_outfits/images/126555847.jpg', 'C:/Users/marce/Desktop/polyvore_outfits/images/126560658.jpg', 'C:/Users/marce/Desktop/polyvore_outfits/images/126616571.jpg', 'C:/Users/marce/Desktop/polyvore_outfits/images/126683638.jpg', 'C:/Users/marce/Desktop/polyvore_outfits/images/126686019.jpg', 'C:/Users/marce/Desktop/polyvore_outfits/images/126731121.jpg', 'C:/Users/marce/Desktop/polyvore_outfits/images/127092842.jpg', 'C:/Users/marce/Desktop/polyvore_outfits/images/127282539.jpg', 'C:/Users/marce/Desktop/polyvore_outfits/images/127459670.jpg', 'C:/Users/marce/Desktop/polyvore_outfits/images/127548419.jpg', 'C:/Users/marce/Desktop/polyvore_outfits/images/127612975.jpg', 'C:/Users/marce/Desktop/polyvore_outfits/images/127624674.jpg', 'C:/Users/marce/Desktop/polyvore_outfits/images/127625113.jpg', 'C:/Users/marce/Desktop/polyvore_outfits/images/127625234.jpg', 'C:/Users/marce/Desktop/polyvore_outfits/images/127792744.jpg', 'C:/Users/marce/Desktop/polyvore_outfits/images/127877732.jpg', 'C:/Users/marce/Desktop/polyvore_outfits/images/127877752.jpg', 'C:/Users/marce/Desktop/polyvore_outfits/images/127969764.jpg', 'C:/Users/marce/Desktop/polyvore_outfits/images/128521943.jpg', 'C:/Users/marce/Desktop/polyvore_outfits/images/128531172.jpg', 'C:/Users/marce/Desktop/polyvore_outfits/images/128613817.jpg', 'C:/Users/marce/Desktop/polyvore_outfits/images/128643078.jpg', 'C:/Users/marce/Desktop/polyvore_outfits/images/128769532.jpg', 'C:/Users/marce/Desktop/polyvore_outfits/images/129101277.jpg', 'C:/Users/marce/Desktop/polyvore_outfits/images/129281956.jpg', 'C:/Users/marce/Desktop/polyvore_outfits/images/129347180.jpg', 'C:/Users/marce/Desktop/polyvore_outfits/images/129634889.jpg', 'C:/Users/marce/Desktop/polyvore_outfits/images/129635409.jpg', 'C:/Users/marce/Desktop/polyvore_outfits/images/129716353.jpg', 'C:/Users/marce/Desktop/polyvore_outfits/images/129774653.jpg', 'C:/Users/marce/Desktop/polyvore_outfits/images/129997291.jpg', 'C:/Users/marce/Desktop/polyvore_outfits/images/130147635.jpg', 'C:/Users/marce/Desktop/polyvore_outfits/images/130172242.jpg', 'C:/Users/marce/Desktop/polyvore_outfits/images/130323909.jpg', 'C:/Users/marce/Desktop/polyvore_outfits/images/130377538.jpg', 'C:/Users/marce/Desktop/polyvore_outfits/images/130411878.jpg', 'C:/Users/marce/Desktop/polyvore_outfits/images/130431983.jpg', 'C:/Users/marce/Desktop/polyvore_outfits/images/130471816.jpg', 'C:/Users/marce/Desktop/polyvore_outfits/images/130482958.jpg', 'C:/Users/marce/Desktop/polyvore_outfits/images/130603076.jpg', 'C:/Users/marce/Desktop/polyvore_outfits/images/130871680.jpg', 'C:/Users/marce/Desktop/polyvore_outfits/images/130939983.jpg', 'C:/Users/marce/Desktop/polyvore_outfits/images/13144190.jpg', 'C:/Users/marce/Desktop/polyvore_outfits/images/132218703.jpg', 'C:/Users/marce/Desktop/polyvore_outfits/images/132569317.jpg', 'C:/Users/marce/Desktop/polyvore_outfits/images/132809328.jpg', 'C:/Users/marce/Desktop/polyvore_outfits/images/132809708.jpg', 'C:/Users/marce/Desktop/polyvore_outfits/images/132930758.jpg', 'C:/Users/marce/Desktop/polyvore_outfits/images/133316438.jpg', 'C:/Users/marce/Desktop/polyvore_outfits/images/133367679.jpg', 'C:/Users/marce/Desktop/polyvore_outfits/images/133375738.jpg', 'C:/Users/marce/Desktop/polyvore_outfits/images/133381194.jpg', 'C:/Users/marce/Desktop/polyvore_outfits/images/133726502.jpg', 'C:/Users/marce/Desktop/polyvore_outfits/images/133793879.jpg', 'C:/Users/marce/Desktop/polyvore_outfits/images/133840600.jpg', 'C:/Users/marce/Desktop/polyvore_outfits/images/133888726.jpg', 'C:/Users/marce/Desktop/polyvore_outfits/images/133979194.jpg', 'C:/Users/marce/Desktop/polyvore_outfits/images/134010972.jpg', 'C:/Users/marce/Desktop/polyvore_outfits/images/134047727.jpg', 'C:/Users/marce/Desktop/polyvore_outfits/images/13456523.jpg', 'C:/Users/marce/Desktop/polyvore_outfits/images/134701365.jpg', 'C:/Users/marce/Desktop/polyvore_outfits/images/134732918.jpg', 'C:/Users/marce/Desktop/polyvore_outfits/images/134806004.jpg', 'C:/Users/marce/Desktop/polyvore_outfits/images/134806380.jpg', 'C:/Users/marce/Desktop/polyvore_outfits/images/134852163.jpg', 'C:/Users/marce/Desktop/polyvore_outfits/images/134988624.jpg', 'C:/Users/marce/Desktop/polyvore_outfits/images/135268550.jpg', 'C:/Users/marce/Desktop/polyvore_outfits/images/135301088.jpg', 'C:/Users/marce/Desktop/polyvore_outfits/images/135485094.jpg', 'C:/Users/marce/Desktop/polyvore_outfits/images/135754894.jpg', 'C:/Users/marce/Desktop/polyvore_outfits/images/136116965.jpg', 'C:/Users/marce/Desktop/polyvore_outfits/images/136224369.jpg', 'C:/Users/marce/Desktop/polyvore_outfits/images/136265451.jpg', 'C:/Users/marce/Desktop/polyvore_outfits/images/136407065.jpg', 'C:/Users/marce/Desktop/polyvore_outfits/images/136453546.jpg', 'C:/Users/marce/Desktop/polyvore_outfits/images/136459509.jpg', 'C:/Users/marce/Desktop/polyvore_outfits/images/136475092.jpg', 'C:/Users/marce/Desktop/polyvore_outfits/images/136503993.jpg', 'C:/Users/marce/Desktop/polyvore_outfits/images/136555955.jpg', 'C:/Users/marce/Desktop/polyvore_outfits/images/13658269.jpg', 'C:/Users/marce/Desktop/polyvore_outfits/images/136792853.jpg', 'C:/Users/marce/Desktop/polyvore_outfits/images/136942438.jpg', 'C:/Users/marce/Desktop/polyvore_outfits/images/137032063.jpg', 'C:/Users/marce/Desktop/polyvore_outfits/images/13711787.jpg', 'C:/Users/marce/Desktop/polyvore_outfits/images/137658400.jpg', 'C:/Users/marce/Desktop/polyvore_outfits/images/138120677.jpg', 'C:/Users/marce/Desktop/polyvore_outfits/images/138132547.jpg', 'C:/Users/marce/Desktop/polyvore_outfits/images/138287642.jpg', 'C:/Users/marce/Desktop/polyvore_outfits/images/138330423.jpg', 'C:/Users/marce/Desktop/polyvore_outfits/images/138415449.jpg', 'C:/Users/marce/Desktop/polyvore_outfits/images/138468775.jpg', 'C:/Users/marce/Desktop/polyvore_outfits/images/138570882.jpg', 'C:/Users/marce/Desktop/polyvore_outfits/images/138615955.jpg', 'C:/Users/marce/Desktop/polyvore_outfits/images/138719264.jpg', 'C:/Users/marce/Desktop/polyvore_outfits/images/138891903.jpg', 'C:/Users/marce/Desktop/polyvore_outfits/images/139121173.jpg', 'C:/Users/marce/Desktop/polyvore_outfits/images/139242333.jpg', 'C:/Users/marce/Desktop/polyvore_outfits/images/139705478.jpg', 'C:/Users/marce/Desktop/polyvore_outfits/images/139806234.jpg', 'C:/Users/marce/Desktop/polyvore_outfits/images/139902443.jpg', 'C:/Users/marce/Desktop/polyvore_outfits/images/140067823.jpg', 'C:/Users/marce/Desktop/polyvore_outfits/images/140246410.jpg', 'C:/Users/marce/Desktop/polyvore_outfits/images/140295469.jpg', 'C:/Users/marce/Desktop/polyvore_outfits/images/140311934.jpg', 'C:/Users/marce/Desktop/polyvore_outfits/images/140392420.jpg', 'C:/Users/marce/Desktop/polyvore_outfits/images/140439926.jpg', 'C:/Users/marce/Desktop/polyvore_outfits/images/140558421.jpg', 'C:/Users/marce/Desktop/polyvore_outfits/images/140706309.jpg', 'C:/Users/marce/Desktop/polyvore_outfits/images/140707032.jpg', 'C:/Users/marce/Desktop/polyvore_outfits/images/140991395.jpg', 'C:/Users/marce/Desktop/polyvore_outfits/images/141143647.jpg', 'C:/Users/marce/Desktop/polyvore_outfits/images/141198414.jpg', 'C:/Users/marce/Desktop/polyvore_outfits/images/141238107.jpg', 'C:/Users/marce/Desktop/polyvore_outfits/images/141356694.jpg', 'C:/Users/marce/Desktop/polyvore_outfits/images/141407746.jpg', 'C:/Users/marce/Desktop/polyvore_outfits/images/141467699.jpg', 'C:/Users/marce/Desktop/polyvore_outfits/images/141587301.jpg', 'C:/Users/marce/Desktop/polyvore_outfits/images/141596326.jpg', 'C:/Users/marce/Desktop/polyvore_outfits/images/141807175.jpg', 'C:/Users/marce/Desktop/polyvore_outfits/images/141863245.jpg', 'C:/Users/marce/Desktop/polyvore_outfits/images/141881618.jpg', 'C:/Users/marce/Desktop/polyvore_outfits/images/142014197.jpg', 'C:/Users/marce/Desktop/polyvore_outfits/images/142053417.jpg', 'C:/Users/marce/Desktop/polyvore_outfits/images/142266433.jpg', 'C:/Users/marce/Desktop/polyvore_outfits/images/142459772.jpg', 'C:/Users/marce/Desktop/polyvore_outfits/images/142603056.jpg', 'C:/Users/marce/Desktop/polyvore_outfits/images/142712862.jpg', 'C:/Users/marce/Desktop/polyvore_outfits/images/142797840.jpg', 'C:/Users/marce/Desktop/polyvore_outfits/images/142905385.jpg', 'C:/Users/marce/Desktop/polyvore_outfits/images/142907592.jpg', 'C:/Users/marce/Desktop/polyvore_outfits/images/142931155.jpg', 'C:/Users/marce/Desktop/polyvore_outfits/images/142989366.jpg', 'C:/Users/marce/Desktop/polyvore_outfits/images/143057450.jpg', 'C:/Users/marce/Desktop/polyvore_outfits/images/143080624.jpg', 'C:/Users/marce/Desktop/polyvore_outfits/images/14321523.jpg', 'C:/Users/marce/Desktop/polyvore_outfits/images/143266387.jpg', 'C:/Users/marce/Desktop/polyvore_outfits/images/143266427.jpg', 'C:/Users/marce/Desktop/polyvore_outfits/images/143356856.jpg', 'C:/Users/marce/Desktop/polyvore_outfits/images/143441552.jpg', 'C:/Users/marce/Desktop/polyvore_outfits/images/143596665.jpg', 'C:/Users/marce/Desktop/polyvore_outfits/images/143785862.jpg', 'C:/Users/marce/Desktop/polyvore_outfits/images/14392861.jpg', 'C:/Users/marce/Desktop/polyvore_outfits/images/143945870.jpg', 'C:/Users/marce/Desktop/polyvore_outfits/images/143998207.jpg', 'C:/Users/marce/Desktop/polyvore_outfits/images/144120139.jpg', 'C:/Users/marce/Desktop/polyvore_outfits/images/14422995.jpg', 'C:/Users/marce/Desktop/polyvore_outfits/images/144314772.jpg', 'C:/Users/marce/Desktop/polyvore_outfits/images/144330220.jpg', 'C:/Users/marce/Desktop/polyvore_outfits/images/144478575.jpg', 'C:/Users/marce/Desktop/polyvore_outfits/images/144569149.jpg', 'C:/Users/marce/Desktop/polyvore_outfits/images/144715496.jpg', 'C:/Users/marce/Desktop/polyvore_outfits/images/144783248.jpg', 'C:/Users/marce/Desktop/polyvore_outfits/images/144873395.jpg', 'C:/Users/marce/Desktop/polyvore_outfits/images/145161310.jpg', 'C:/Users/marce/Desktop/polyvore_outfits/images/145165563.jpg', 'C:/Users/marce/Desktop/polyvore_outfits/images/145314554.jpg', 'C:/Users/marce/Desktop/polyvore_outfits/images/145465357.jpg', 'C:/Users/marce/Desktop/polyvore_outfits/images/145491417.jpg', 'C:/Users/marce/Desktop/polyvore_outfits/images/145491754.jpg', 'C:/Users/marce/Desktop/polyvore_outfits/images/145504932.jpg', 'C:/Users/marce/Desktop/polyvore_outfits/images/14556471.jpg', 'C:/Users/marce/Desktop/polyvore_outfits/images/145644248.jpg', 'C:/Users/marce/Desktop/polyvore_outfits/images/145689494.jpg', 'C:/Users/marce/Desktop/polyvore_outfits/images/145975998.jpg', 'C:/Users/marce/Desktop/polyvore_outfits/images/145976745.jpg', 'C:/Users/marce/Desktop/polyvore_outfits/images/146134174.jpg', 'C:/Users/marce/Desktop/polyvore_outfits/images/146240215.jpg', 'C:/Users/marce/Desktop/polyvore_outfits/images/146272778.jpg', 'C:/Users/marce/Desktop/polyvore_outfits/images/146341810.jpg', 'C:/Users/marce/Desktop/polyvore_outfits/images/146369466.jpg', 'C:/Users/marce/Desktop/polyvore_outfits/images/146529103.jpg', 'C:/Users/marce/Desktop/polyvore_outfits/images/146651020.jpg', 'C:/Users/marce/Desktop/polyvore_outfits/images/146809513.jpg', 'C:/Users/marce/Desktop/polyvore_outfits/images/147120863.jpg', 'C:/Users/marce/Desktop/polyvore_outfits/images/147304196.jpg', 'C:/Users/marce/Desktop/polyvore_outfits/images/147382198.jpg', 'C:/Users/marce/Desktop/polyvore_outfits/images/147448378.jpg', 'C:/Users/marce/Desktop/polyvore_outfits/images/147524224.jpg', 'C:/Users/marce/Desktop/polyvore_outfits/images/147852567.jpg', 'C:/Users/marce/Desktop/polyvore_outfits/images/148099815.jpg', 'C:/Users/marce/Desktop/polyvore_outfits/images/148444690.jpg', 'C:/Users/marce/Desktop/polyvore_outfits/images/148468211.jpg', 'C:/Users/marce/Desktop/polyvore_outfits/images/148500934.jpg', 'C:/Users/marce/Desktop/polyvore_outfits/images/14872553.jpg', 'C:/Users/marce/Desktop/polyvore_outfits/images/148890103.jpg', 'C:/Users/marce/Desktop/polyvore_outfits/images/148970819.jpg', 'C:/Users/marce/Desktop/polyvore_outfits/images/149050683.jpg', 'C:/Users/marce/Desktop/polyvore_outfits/images/149173873.jpg', 'C:/Users/marce/Desktop/polyvore_outfits/images/149387486.jpg', 'C:/Users/marce/Desktop/polyvore_outfits/images/149564152.jpg', 'C:/Users/marce/Desktop/polyvore_outfits/images/149695098.jpg', 'C:/Users/marce/Desktop/polyvore_outfits/images/149721446.jpg', 'C:/Users/marce/Desktop/polyvore_outfits/images/150326600.jpg', 'C:/Users/marce/Desktop/polyvore_outfits/images/150359102.jpg', 'C:/Users/marce/Desktop/polyvore_outfits/images/150800944.jpg', 'C:/Users/marce/Desktop/polyvore_outfits/images/150953404.jpg', 'C:/Users/marce/Desktop/polyvore_outfits/images/150966498.jpg', 'C:/Users/marce/Desktop/polyvore_outfits/images/151044758.jpg', 'C:/Users/marce/Desktop/polyvore_outfits/images/151248258.jpg', 'C:/Users/marce/Desktop/polyvore_outfits/images/151249913.jpg', 'C:/Users/marce/Desktop/polyvore_outfits/images/151250841.jpg', 'C:/Users/marce/Desktop/polyvore_outfits/images/151372346.jpg', 'C:/Users/marce/Desktop/polyvore_outfits/images/151818197.jpg', 'C:/Users/marce/Desktop/polyvore_outfits/images/151869250.jpg', 'C:/Users/marce/Desktop/polyvore_outfits/images/151869377.jpg', 'C:/Users/marce/Desktop/polyvore_outfits/images/151956651.jpg', 'C:/Users/marce/Desktop/polyvore_outfits/images/152039886.jpg', 'C:/Users/marce/Desktop/polyvore_outfits/images/152045277.jpg', 'C:/Users/marce/Desktop/polyvore_outfits/images/152127018.jpg', 'C:/Users/marce/Desktop/polyvore_outfits/images/152130766.jpg', 'C:/Users/marce/Desktop/polyvore_outfits/images/152220306.jpg', 'C:/Users/marce/Desktop/polyvore_outfits/images/152244152.jpg', 'C:/Users/marce/Desktop/polyvore_outfits/images/152244426.jpg', 'C:/Users/marce/Desktop/polyvore_outfits/images/152459077.jpg', 'C:/Users/marce/Desktop/polyvore_outfits/images/152736065.jpg', 'C:/Users/marce/Desktop/polyvore_outfits/images/152758566.jpg', 'C:/Users/marce/Desktop/polyvore_outfits/images/152808975.jpg', 'C:/Users/marce/Desktop/polyvore_outfits/images/152902708.jpg', 'C:/Users/marce/Desktop/polyvore_outfits/images/153562371.jpg', 'C:/Users/marce/Desktop/polyvore_outfits/images/153618089.jpg', 'C:/Users/marce/Desktop/polyvore_outfits/images/153801407.jpg', 'C:/Users/marce/Desktop/polyvore_outfits/images/153984047.jpg', 'C:/Users/marce/Desktop/polyvore_outfits/images/154112180.jpg', 'C:/Users/marce/Desktop/polyvore_outfits/images/154182910.jpg', 'C:/Users/marce/Desktop/polyvore_outfits/images/154218231.jpg', 'C:/Users/marce/Desktop/polyvore_outfits/images/154398628.jpg', 'C:/Users/marce/Desktop/polyvore_outfits/images/154513836.jpg', 'C:/Users/marce/Desktop/polyvore_outfits/images/154697230.jpg', 'C:/Users/marce/Desktop/polyvore_outfits/images/155018945.jpg', 'C:/Users/marce/Desktop/polyvore_outfits/images/155593903.jpg', 'C:/Users/marce/Desktop/polyvore_outfits/images/155949288.jpg', 'C:/Users/marce/Desktop/polyvore_outfits/images/156026962.jpg', 'C:/Users/marce/Desktop/polyvore_outfits/images/156222986.jpg', 'C:/Users/marce/Desktop/polyvore_outfits/images/156245730.jpg', 'C:/Users/marce/Desktop/polyvore_outfits/images/156322863.jpg', 'C:/Users/marce/Desktop/polyvore_outfits/images/156440222.jpg', 'C:/Users/marce/Desktop/polyvore_outfits/images/156517396.jpg', 'C:/Users/marce/Desktop/polyvore_outfits/images/156628545.jpg', 'C:/Users/marce/Desktop/polyvore_outfits/images/156674746.jpg', 'C:/Users/marce/Desktop/polyvore_outfits/images/156967397.jpg', 'C:/Users/marce/Desktop/polyvore_outfits/images/157050966.jpg', 'C:/Users/marce/Desktop/polyvore_outfits/images/157079978.jpg', 'C:/Users/marce/Desktop/polyvore_outfits/images/157162244.jpg', 'C:/Users/marce/Desktop/polyvore_outfits/images/157186481.jpg', 'C:/Users/marce/Desktop/polyvore_outfits/images/157382715.jpg', 'C:/Users/marce/Desktop/polyvore_outfits/images/157497902.jpg', 'C:/Users/marce/Desktop/polyvore_outfits/images/157624791.jpg', 'C:/Users/marce/Desktop/polyvore_outfits/images/157646550.jpg', 'C:/Users/marce/Desktop/polyvore_outfits/images/157672098.jpg', 'C:/Users/marce/Desktop/polyvore_outfits/images/157691032.jpg', 'C:/Users/marce/Desktop/polyvore_outfits/images/157776209.jpg', 'C:/Users/marce/Desktop/polyvore_outfits/images/157787478.jpg', 'C:/Users/marce/Desktop/polyvore_outfits/images/157813764.jpg', 'C:/Users/marce/Desktop/polyvore_outfits/images/157974876.jpg', 'C:/Users/marce/Desktop/polyvore_outfits/images/158318120.jpg', 'C:/Users/marce/Desktop/polyvore_outfits/images/158510116.jpg', 'C:/Users/marce/Desktop/polyvore_outfits/images/158609008.jpg', 'C:/Users/marce/Desktop/polyvore_outfits/images/159022125.jpg', 'C:/Users/marce/Desktop/polyvore_outfits/images/159031689.jpg', 'C:/Users/marce/Desktop/polyvore_outfits/images/159144623.jpg', 'C:/Users/marce/Desktop/polyvore_outfits/images/159187010.jpg', 'C:/Users/marce/Desktop/polyvore_outfits/images/159206062.jpg', 'C:/Users/marce/Desktop/polyvore_outfits/images/159251025.jpg', 'C:/Users/marce/Desktop/polyvore_outfits/images/159257155.jpg', 'C:/Users/marce/Desktop/polyvore_outfits/images/159383079.jpg', 'C:/Users/marce/Desktop/polyvore_outfits/images/159565029.jpg', 'C:/Users/marce/Desktop/polyvore_outfits/images/159580851.jpg', 'C:/Users/marce/Desktop/polyvore_outfits/images/159853907.jpg', 'C:/Users/marce/Desktop/polyvore_outfits/images/160114701.jpg', 'C:/Users/marce/Desktop/polyvore_outfits/images/160116931.jpg', 'C:/Users/marce/Desktop/polyvore_outfits/images/160145398.jpg', 'C:/Users/marce/Desktop/polyvore_outfits/images/160200059.jpg', 'C:/Users/marce/Desktop/polyvore_outfits/images/160254903.jpg', 'C:/Users/marce/Desktop/polyvore_outfits/images/160362128.jpg', 'C:/Users/marce/Desktop/polyvore_outfits/images/16052702.jpg', 'C:/Users/marce/Desktop/polyvore_outfits/images/160553297.jpg', 'C:/Users/marce/Desktop/polyvore_outfits/images/160553476.jpg', 'C:/Users/marce/Desktop/polyvore_outfits/images/160575282.jpg', 'C:/Users/marce/Desktop/polyvore_outfits/images/160595673.jpg', 'C:/Users/marce/Desktop/polyvore_outfits/images/160683537.jpg', 'C:/Users/marce/Desktop/polyvore_outfits/images/160707286.jpg', 'C:/Users/marce/Desktop/polyvore_outfits/images/160726466.jpg', 'C:/Users/marce/Desktop/polyvore_outfits/images/160801965.jpg', 'C:/Users/marce/Desktop/polyvore_outfits/images/160947622.jpg', 'C:/Users/marce/Desktop/polyvore_outfits/images/160981132.jpg', 'C:/Users/marce/Desktop/polyvore_outfits/images/161036009.jpg', 'C:/Users/marce/Desktop/polyvore_outfits/images/161222105.jpg', 'C:/Users/marce/Desktop/polyvore_outfits/images/161306243.jpg', 'C:/Users/marce/Desktop/polyvore_outfits/images/161337683.jpg', 'C:/Users/marce/Desktop/polyvore_outfits/images/161574159.jpg', 'C:/Users/marce/Desktop/polyvore_outfits/images/161591189.jpg', 'C:/Users/marce/Desktop/polyvore_outfits/images/161607168.jpg', 'C:/Users/marce/Desktop/polyvore_outfits/images/161607295.jpg', 'C:/Users/marce/Desktop/polyvore_outfits/images/161617671.jpg', 'C:/Users/marce/Desktop/polyvore_outfits/images/161630404.jpg', 'C:/Users/marce/Desktop/polyvore_outfits/images/161637339.jpg', 'C:/Users/marce/Desktop/polyvore_outfits/images/162223821.jpg', 'C:/Users/marce/Desktop/polyvore_outfits/images/162508544.jpg', 'C:/Users/marce/Desktop/polyvore_outfits/images/162640444.jpg', 'C:/Users/marce/Desktop/polyvore_outfits/images/162649059.jpg', 'C:/Users/marce/Desktop/polyvore_outfits/images/162653573.jpg', 'C:/Users/marce/Desktop/polyvore_outfits/images/163194841.jpg', 'C:/Users/marce/Desktop/polyvore_outfits/images/163812174.jpg', 'C:/Users/marce/Desktop/polyvore_outfits/images/163990473.jpg', 'C:/Users/marce/Desktop/polyvore_outfits/images/164237451.jpg', 'C:/Users/marce/Desktop/polyvore_outfits/images/164462485.jpg', 'C:/Users/marce/Desktop/polyvore_outfits/images/164485107.jpg', 'C:/Users/marce/Desktop/polyvore_outfits/images/164549158.jpg', 'C:/Users/marce/Desktop/polyvore_outfits/images/164565763.jpg', 'C:/Users/marce/Desktop/polyvore_outfits/images/164645975.jpg', 'C:/Users/marce/Desktop/polyvore_outfits/images/164878074.jpg', 'C:/Users/marce/Desktop/polyvore_outfits/images/164931376.jpg', 'C:/Users/marce/Desktop/polyvore_outfits/images/165215423.jpg', 'C:/Users/marce/Desktop/polyvore_outfits/images/165233294.jpg', 'C:/Users/marce/Desktop/polyvore_outfits/images/165233298.jpg', 'C:/Users/marce/Desktop/polyvore_outfits/images/165233320.jpg', 'C:/Users/marce/Desktop/polyvore_outfits/images/165236619.jpg', 'C:/Users/marce/Desktop/polyvore_outfits/images/165554622.jpg', 'C:/Users/marce/Desktop/polyvore_outfits/images/165558877.jpg', 'C:/Users/marce/Desktop/polyvore_outfits/images/165666813.jpg', 'C:/Users/marce/Desktop/polyvore_outfits/images/165669114.jpg', 'C:/Users/marce/Desktop/polyvore_outfits/images/165724807.jpg', 'C:/Users/marce/Desktop/polyvore_outfits/images/165729462.jpg', 'C:/Users/marce/Desktop/polyvore_outfits/images/165757587.jpg', 'C:/Users/marce/Desktop/polyvore_outfits/images/165757695.jpg', 'C:/Users/marce/Desktop/polyvore_outfits/images/165769980.jpg', 'C:/Users/marce/Desktop/polyvore_outfits/images/165781887.jpg', 'C:/Users/marce/Desktop/polyvore_outfits/images/165801960.jpg', 'C:/Users/marce/Desktop/polyvore_outfits/images/165809488.jpg', 'C:/Users/marce/Desktop/polyvore_outfits/images/165861147.jpg', 'C:/Users/marce/Desktop/polyvore_outfits/images/165876776.jpg', 'C:/Users/marce/Desktop/polyvore_outfits/images/166052121.jpg', 'C:/Users/marce/Desktop/polyvore_outfits/images/166261285.jpg', 'C:/Users/marce/Desktop/polyvore_outfits/images/166323070.jpg', 'C:/Users/marce/Desktop/polyvore_outfits/images/166471461.jpg', 'C:/Users/marce/Desktop/polyvore_outfits/images/166477309.jpg', 'C:/Users/marce/Desktop/polyvore_outfits/images/166679434.jpg', 'C:/Users/marce/Desktop/polyvore_outfits/images/166686103.jpg', 'C:/Users/marce/Desktop/polyvore_outfits/images/166935805.jpg', 'C:/Users/marce/Desktop/polyvore_outfits/images/167047152.jpg', 'C:/Users/marce/Desktop/polyvore_outfits/images/167252969.jpg', 'C:/Users/marce/Desktop/polyvore_outfits/images/16725304.jpg', 'C:/Users/marce/Desktop/polyvore_outfits/images/167493692.jpg', 'C:/Users/marce/Desktop/polyvore_outfits/images/167726332.jpg', 'C:/Users/marce/Desktop/polyvore_outfits/images/16784542.jpg', 'C:/Users/marce/Desktop/polyvore_outfits/images/167883113.jpg', 'C:/Users/marce/Desktop/polyvore_outfits/images/168224191.jpg', 'C:/Users/marce/Desktop/polyvore_outfits/images/168353641.jpg', 'C:/Users/marce/Desktop/polyvore_outfits/images/168932681.jpg', 'C:/Users/marce/Desktop/polyvore_outfits/images/168946341.jpg', 'C:/Users/marce/Desktop/polyvore_outfits/images/168985603.jpg', 'C:/Users/marce/Desktop/polyvore_outfits/images/169019782.jpg', 'C:/Users/marce/Desktop/polyvore_outfits/images/169020505.jpg', 'C:/Users/marce/Desktop/polyvore_outfits/images/169020840.jpg', 'C:/Users/marce/Desktop/polyvore_outfits/images/169021445.jpg', 'C:/Users/marce/Desktop/polyvore_outfits/images/169021584.jpg', 'C:/Users/marce/Desktop/polyvore_outfits/images/169021713.jpg', 'C:/Users/marce/Desktop/polyvore_outfits/images/169021869.jpg', 'C:/Users/marce/Desktop/polyvore_outfits/images/169021876.jpg', 'C:/Users/marce/Desktop/polyvore_outfits/images/169021889.jpg', 'C:/Users/marce/Desktop/polyvore_outfits/images/169021895.jpg', 'C:/Users/marce/Desktop/polyvore_outfits/images/169021916.jpg', 'C:/Users/marce/Desktop/polyvore_outfits/images/169022050.jpg', 'C:/Users/marce/Desktop/polyvore_outfits/images/169022051.jpg', 'C:/Users/marce/Desktop/polyvore_outfits/images/169022054.jpg', 'C:/Users/marce/Desktop/polyvore_outfits/images/169022056.jpg', 'C:/Users/marce/Desktop/polyvore_outfits/images/169022438.jpg', 'C:/Users/marce/Desktop/polyvore_outfits/images/169022615.jpg', 'C:/Users/marce/Desktop/polyvore_outfits/images/169043245.jpg', 'C:/Users/marce/Desktop/polyvore_outfits/images/169145161.jpg', 'C:/Users/marce/Desktop/polyvore_outfits/images/169244940.jpg', 'C:/Users/marce/Desktop/polyvore_outfits/images/169265719.jpg', 'C:/Users/marce/Desktop/polyvore_outfits/images/169413238.jpg', 'C:/Users/marce/Desktop/polyvore_outfits/images/169516042.jpg', 'C:/Users/marce/Desktop/polyvore_outfits/images/169684753.jpg', 'C:/Users/marce/Desktop/polyvore_outfits/images/169780411.jpg', 'C:/Users/marce/Desktop/polyvore_outfits/images/169807557.jpg', 'C:/Users/marce/Desktop/polyvore_outfits/images/169857447.jpg', 'C:/Users/marce/Desktop/polyvore_outfits/images/169897265.jpg', 'C:/Users/marce/Desktop/polyvore_outfits/images/170076208.jpg', 'C:/Users/marce/Desktop/polyvore_outfits/images/170125946.jpg', 'C:/Users/marce/Desktop/polyvore_outfits/images/170126805.jpg', 'C:/Users/marce/Desktop/polyvore_outfits/images/170126808.jpg', 'C:/Users/marce/Desktop/polyvore_outfits/images/170200290.jpg', 'C:/Users/marce/Desktop/polyvore_outfits/images/170464880.jpg', 'C:/Users/marce/Desktop/polyvore_outfits/images/170543269.jpg', 'C:/Users/marce/Desktop/polyvore_outfits/images/170640334.jpg', 'C:/Users/marce/Desktop/polyvore_outfits/images/170666570.jpg', 'C:/Users/marce/Desktop/polyvore_outfits/images/170745809.jpg', 'C:/Users/marce/Desktop/polyvore_outfits/images/170904692.jpg', 'C:/Users/marce/Desktop/polyvore_outfits/images/171024239.jpg', 'C:/Users/marce/Desktop/polyvore_outfits/images/171067653.jpg', 'C:/Users/marce/Desktop/polyvore_outfits/images/171067660.jpg', 'C:/Users/marce/Desktop/polyvore_outfits/images/171300341.jpg', 'C:/Users/marce/Desktop/polyvore_outfits/images/17150760.jpg', 'C:/Users/marce/Desktop/polyvore_outfits/images/171848417.jpg', 'C:/Users/marce/Desktop/polyvore_outfits/images/171927387.jpg', 'C:/Users/marce/Desktop/polyvore_outfits/images/171956019.jpg', 'C:/Users/marce/Desktop/polyvore_outfits/images/172004984.jpg', 'C:/Users/marce/Desktop/polyvore_outfits/images/172017113.jpg', 'C:/Users/marce/Desktop/polyvore_outfits/images/172123537.jpg', 'C:/Users/marce/Desktop/polyvore_outfits/images/172444603.jpg', 'C:/Users/marce/Desktop/polyvore_outfits/images/172517604.jpg', 'C:/Users/marce/Desktop/polyvore_outfits/images/172599223.jpg', 'C:/Users/marce/Desktop/polyvore_outfits/images/172724127.jpg', 'C:/Users/marce/Desktop/polyvore_outfits/images/172857011.jpg', 'C:/Users/marce/Desktop/polyvore_outfits/images/173534408.jpg', 'C:/Users/marce/Desktop/polyvore_outfits/images/173730409.jpg', 'C:/Users/marce/Desktop/polyvore_outfits/images/173866358.jpg', 'C:/Users/marce/Desktop/polyvore_outfits/images/174108260.jpg', 'C:/Users/marce/Desktop/polyvore_outfits/images/174540237.jpg', 'C:/Users/marce/Desktop/polyvore_outfits/images/174844088.jpg', 'C:/Users/marce/Desktop/polyvore_outfits/images/174865026.jpg', 'C:/Users/marce/Desktop/polyvore_outfits/images/175047543.jpg', 'C:/Users/marce/Desktop/polyvore_outfits/images/175794738.jpg', 'C:/Users/marce/Desktop/polyvore_outfits/images/175927783.jpg', 'C:/Users/marce/Desktop/polyvore_outfits/images/176093275.jpg', 'C:/Users/marce/Desktop/polyvore_outfits/images/176307625.jpg', 'C:/Users/marce/Desktop/polyvore_outfits/images/176427002.jpg', 'C:/Users/marce/Desktop/polyvore_outfits/images/176702640.jpg', 'C:/Users/marce/Desktop/polyvore_outfits/images/176825164.jpg', 'C:/Users/marce/Desktop/polyvore_outfits/images/176825181.jpg', 'C:/Users/marce/Desktop/polyvore_outfits/images/176880684.jpg', 'C:/Users/marce/Desktop/polyvore_outfits/images/177303230.jpg', 'C:/Users/marce/Desktop/polyvore_outfits/images/177335639.jpg', 'C:/Users/marce/Desktop/polyvore_outfits/images/177490595.jpg', 'C:/Users/marce/Desktop/polyvore_outfits/images/177601303.jpg', 'C:/Users/marce/Desktop/polyvore_outfits/images/177824908.jpg', 'C:/Users/marce/Desktop/polyvore_outfits/images/178047164.jpg', 'C:/Users/marce/Desktop/polyvore_outfits/images/178047169.jpg', 'C:/Users/marce/Desktop/polyvore_outfits/images/178091711.jpg', 'C:/Users/marce/Desktop/polyvore_outfits/images/178146060.jpg', 'C:/Users/marce/Desktop/polyvore_outfits/images/178211292.jpg', 'C:/Users/marce/Desktop/polyvore_outfits/images/178232569.jpg', 'C:/Users/marce/Desktop/polyvore_outfits/images/178255072.jpg', 'C:/Users/marce/Desktop/polyvore_outfits/images/178294363.jpg', 'C:/Users/marce/Desktop/polyvore_outfits/images/178759554.jpg', 'C:/Users/marce/Desktop/polyvore_outfits/images/179100054.jpg', 'C:/Users/marce/Desktop/polyvore_outfits/images/179116919.jpg', 'C:/Users/marce/Desktop/polyvore_outfits/images/179310076.jpg', 'C:/Users/marce/Desktop/polyvore_outfits/images/179473122.jpg', 'C:/Users/marce/Desktop/polyvore_outfits/images/179542670.jpg', 'C:/Users/marce/Desktop/polyvore_outfits/images/179694450.jpg', 'C:/Users/marce/Desktop/polyvore_outfits/images/179704843.jpg', 'C:/Users/marce/Desktop/polyvore_outfits/images/18009410.jpg', 'C:/Users/marce/Desktop/polyvore_outfits/images/180382472.jpg', 'C:/Users/marce/Desktop/polyvore_outfits/images/180883979.jpg', 'C:/Users/marce/Desktop/polyvore_outfits/images/181179395.jpg', 'C:/Users/marce/Desktop/polyvore_outfits/images/181337928.jpg', 'C:/Users/marce/Desktop/polyvore_outfits/images/181444001.jpg', 'C:/Users/marce/Desktop/polyvore_outfits/images/181769697.jpg', 'C:/Users/marce/Desktop/polyvore_outfits/images/181978264.jpg', 'C:/Users/marce/Desktop/polyvore_outfits/images/182099973.jpg', 'C:/Users/marce/Desktop/polyvore_outfits/images/182169191.jpg', 'C:/Users/marce/Desktop/polyvore_outfits/images/182233142.jpg', 'C:/Users/marce/Desktop/polyvore_outfits/images/182300744.jpg', 'C:/Users/marce/Desktop/polyvore_outfits/images/182339535.jpg', 'C:/Users/marce/Desktop/polyvore_outfits/images/182586258.jpg', 'C:/Users/marce/Desktop/polyvore_outfits/images/182589843.jpg', 'C:/Users/marce/Desktop/polyvore_outfits/images/182904496.jpg', 'C:/Users/marce/Desktop/polyvore_outfits/images/183005415.jpg', 'C:/Users/marce/Desktop/polyvore_outfits/images/183005565.jpg', 'C:/Users/marce/Desktop/polyvore_outfits/images/183032278.jpg', 'C:/Users/marce/Desktop/polyvore_outfits/images/183153623.jpg', 'C:/Users/marce/Desktop/polyvore_outfits/images/183487660.jpg', 'C:/Users/marce/Desktop/polyvore_outfits/images/183496255.jpg', 'C:/Users/marce/Desktop/polyvore_outfits/images/183560240.jpg', 'C:/Users/marce/Desktop/polyvore_outfits/images/183819665.jpg', 'C:/Users/marce/Desktop/polyvore_outfits/images/183993843.jpg', 'C:/Users/marce/Desktop/polyvore_outfits/images/184263551.jpg', 'C:/Users/marce/Desktop/polyvore_outfits/images/184401363.jpg', 'C:/Users/marce/Desktop/polyvore_outfits/images/184455120.jpg', 'C:/Users/marce/Desktop/polyvore_outfits/images/184455121.jpg', 'C:/Users/marce/Desktop/polyvore_outfits/images/184460839.jpg', 'C:/Users/marce/Desktop/polyvore_outfits/images/184596656.jpg', 'C:/Users/marce/Desktop/polyvore_outfits/images/184727501.jpg', 'C:/Users/marce/Desktop/polyvore_outfits/images/184921355.jpg', 'C:/Users/marce/Desktop/polyvore_outfits/images/185071219.jpg', 'C:/Users/marce/Desktop/polyvore_outfits/images/185157026.jpg', 'C:/Users/marce/Desktop/polyvore_outfits/images/185157134.jpg', 'C:/Users/marce/Desktop/polyvore_outfits/images/185178343.jpg', 'C:/Users/marce/Desktop/polyvore_outfits/images/185307368.jpg', 'C:/Users/marce/Desktop/polyvore_outfits/images/185436494.jpg', 'C:/Users/marce/Desktop/polyvore_outfits/images/185522161.jpg', 'C:/Users/marce/Desktop/polyvore_outfits/images/185525894.jpg', 'C:/Users/marce/Desktop/polyvore_outfits/images/185593646.jpg', 'C:/Users/marce/Desktop/polyvore_outfits/images/185824787.jpg', 'C:/Users/marce/Desktop/polyvore_outfits/images/185860652.jpg', 'C:/Users/marce/Desktop/polyvore_outfits/images/185967782.jpg', 'C:/Users/marce/Desktop/polyvore_outfits/images/186105538.jpg', 'C:/Users/marce/Desktop/polyvore_outfits/images/186286903.jpg', 'C:/Users/marce/Desktop/polyvore_outfits/images/186377742.jpg', 'C:/Users/marce/Desktop/polyvore_outfits/images/186520762.jpg', 'C:/Users/marce/Desktop/polyvore_outfits/images/186534272.jpg', 'C:/Users/marce/Desktop/polyvore_outfits/images/186540746.jpg', 'C:/Users/marce/Desktop/polyvore_outfits/images/186755909.jpg', 'C:/Users/marce/Desktop/polyvore_outfits/images/186895707.jpg', 'C:/Users/marce/Desktop/polyvore_outfits/images/187078316.jpg', 'C:/Users/marce/Desktop/polyvore_outfits/images/187116812.jpg', 'C:/Users/marce/Desktop/polyvore_outfits/images/187583713.jpg', 'C:/Users/marce/Desktop/polyvore_outfits/images/187605881.jpg', 'C:/Users/marce/Desktop/polyvore_outfits/images/187688490.jpg', 'C:/Users/marce/Desktop/polyvore_outfits/images/187782552.jpg', 'C:/Users/marce/Desktop/polyvore_outfits/images/187885233.jpg', 'C:/Users/marce/Desktop/polyvore_outfits/images/187885379.jpg', 'C:/Users/marce/Desktop/polyvore_outfits/images/187979126.jpg', 'C:/Users/marce/Desktop/polyvore_outfits/images/188178372.jpg', 'C:/Users/marce/Desktop/polyvore_outfits/images/188248736.jpg', 'C:/Users/marce/Desktop/polyvore_outfits/images/188262891.jpg', 'C:/Users/marce/Desktop/polyvore_outfits/images/188264020.jpg', 'C:/Users/marce/Desktop/polyvore_outfits/images/188438514.jpg', 'C:/Users/marce/Desktop/polyvore_outfits/images/188490750.jpg', 'C:/Users/marce/Desktop/polyvore_outfits/images/188605259.jpg', 'C:/Users/marce/Desktop/polyvore_outfits/images/188836543.jpg', 'C:/Users/marce/Desktop/polyvore_outfits/images/188837222.jpg', 'C:/Users/marce/Desktop/polyvore_outfits/images/188953213.jpg', 'C:/Users/marce/Desktop/polyvore_outfits/images/188958974.jpg', 'C:/Users/marce/Desktop/polyvore_outfits/images/188977938.jpg', 'C:/Users/marce/Desktop/polyvore_outfits/images/189076349.jpg', 'C:/Users/marce/Desktop/polyvore_outfits/images/189243341.jpg', 'C:/Users/marce/Desktop/polyvore_outfits/images/189255260.jpg', 'C:/Users/marce/Desktop/polyvore_outfits/images/189301113.jpg', 'C:/Users/marce/Desktop/polyvore_outfits/images/189316429.jpg', 'C:/Users/marce/Desktop/polyvore_outfits/images/189524567.jpg', 'C:/Users/marce/Desktop/polyvore_outfits/images/18953732.jpg', 'C:/Users/marce/Desktop/polyvore_outfits/images/189693758.jpg', 'C:/Users/marce/Desktop/polyvore_outfits/images/189727954.jpg', 'C:/Users/marce/Desktop/polyvore_outfits/images/189970490.jpg', 'C:/Users/marce/Desktop/polyvore_outfits/images/189990378.jpg', 'C:/Users/marce/Desktop/polyvore_outfits/images/190208776.jpg', 'C:/Users/marce/Desktop/polyvore_outfits/images/190492367.jpg', 'C:/Users/marce/Desktop/polyvore_outfits/images/190531369.jpg', 'C:/Users/marce/Desktop/polyvore_outfits/images/190533502.jpg', 'C:/Users/marce/Desktop/polyvore_outfits/images/190536889.jpg', 'C:/Users/marce/Desktop/polyvore_outfits/images/190543905.jpg', 'C:/Users/marce/Desktop/polyvore_outfits/images/190555720.jpg', 'C:/Users/marce/Desktop/polyvore_outfits/images/190759301.jpg', 'C:/Users/marce/Desktop/polyvore_outfits/images/190782688.jpg', 'C:/Users/marce/Desktop/polyvore_outfits/images/190829137.jpg', 'C:/Users/marce/Desktop/polyvore_outfits/images/190965127.jpg', 'C:/Users/marce/Desktop/polyvore_outfits/images/191216405.jpg', 'C:/Users/marce/Desktop/polyvore_outfits/images/191375312.jpg', 'C:/Users/marce/Desktop/polyvore_outfits/images/191459547.jpg', 'C:/Users/marce/Desktop/polyvore_outfits/images/191548351.jpg', 'C:/Users/marce/Desktop/polyvore_outfits/images/191617277.jpg', 'C:/Users/marce/Desktop/polyvore_outfits/images/191633632.jpg', 'C:/Users/marce/Desktop/polyvore_outfits/images/191669626.jpg', 'C:/Users/marce/Desktop/polyvore_outfits/images/191694407.jpg', 'C:/Users/marce/Desktop/polyvore_outfits/images/191699260.jpg', 'C:/Users/marce/Desktop/polyvore_outfits/images/191699322.jpg', 'C:/Users/marce/Desktop/polyvore_outfits/images/191901795.jpg', 'C:/Users/marce/Desktop/polyvore_outfits/images/192055613.jpg', 'C:/Users/marce/Desktop/polyvore_outfits/images/192064343.jpg', 'C:/Users/marce/Desktop/polyvore_outfits/images/192083834.jpg', 'C:/Users/marce/Desktop/polyvore_outfits/images/192148459.jpg', 'C:/Users/marce/Desktop/polyvore_outfits/images/192202919.jpg', 'C:/Users/marce/Desktop/polyvore_outfits/images/192247119.jpg', 'C:/Users/marce/Desktop/polyvore_outfits/images/192294252.jpg', 'C:/Users/marce/Desktop/polyvore_outfits/images/192325228.jpg', 'C:/Users/marce/Desktop/polyvore_outfits/images/192361456.jpg', 'C:/Users/marce/Desktop/polyvore_outfits/images/192416767.jpg', 'C:/Users/marce/Desktop/polyvore_outfits/images/192975261.jpg', 'C:/Users/marce/Desktop/polyvore_outfits/images/193040164.jpg', 'C:/Users/marce/Desktop/polyvore_outfits/images/193086737.jpg', 'C:/Users/marce/Desktop/polyvore_outfits/images/193133187.jpg', 'C:/Users/marce/Desktop/polyvore_outfits/images/193134598.jpg', 'C:/Users/marce/Desktop/polyvore_outfits/images/193355565.jpg', 'C:/Users/marce/Desktop/polyvore_outfits/images/193463636.jpg', 'C:/Users/marce/Desktop/polyvore_outfits/images/193547200.jpg', 'C:/Users/marce/Desktop/polyvore_outfits/images/193548224.jpg', 'C:/Users/marce/Desktop/polyvore_outfits/images/193549805.jpg', 'C:/Users/marce/Desktop/polyvore_outfits/images/193628670.jpg', 'C:/Users/marce/Desktop/polyvore_outfits/images/193631940.jpg', 'C:/Users/marce/Desktop/polyvore_outfits/images/193725173.jpg', 'C:/Users/marce/Desktop/polyvore_outfits/images/193775957.jpg', 'C:/Users/marce/Desktop/polyvore_outfits/images/193894679.jpg', 'C:/Users/marce/Desktop/polyvore_outfits/images/193930121.jpg', 'C:/Users/marce/Desktop/polyvore_outfits/images/193961004.jpg', 'C:/Users/marce/Desktop/polyvore_outfits/images/194029121.jpg', 'C:/Users/marce/Desktop/polyvore_outfits/images/194079722.jpg', 'C:/Users/marce/Desktop/polyvore_outfits/images/194171425.jpg', 'C:/Users/marce/Desktop/polyvore_outfits/images/194187784.jpg', 'C:/Users/marce/Desktop/polyvore_outfits/images/194192594.jpg', 'C:/Users/marce/Desktop/polyvore_outfits/images/194223277.jpg', 'C:/Users/marce/Desktop/polyvore_outfits/images/194281816.jpg', 'C:/Users/marce/Desktop/polyvore_outfits/images/194297489.jpg', 'C:/Users/marce/Desktop/polyvore_outfits/images/194379737.jpg', 'C:/Users/marce/Desktop/polyvore_outfits/images/194423362.jpg', 'C:/Users/marce/Desktop/polyvore_outfits/images/194424545.jpg', 'C:/Users/marce/Desktop/polyvore_outfits/images/194477170.jpg', 'C:/Users/marce/Desktop/polyvore_outfits/images/194537235.jpg', 'C:/Users/marce/Desktop/polyvore_outfits/images/194628844.jpg', 'C:/Users/marce/Desktop/polyvore_outfits/images/194717353.jpg', 'C:/Users/marce/Desktop/polyvore_outfits/images/194783316.jpg', 'C:/Users/marce/Desktop/polyvore_outfits/images/194795050.jpg', 'C:/Users/marce/Desktop/polyvore_outfits/images/194918733.jpg', 'C:/Users/marce/Desktop/polyvore_outfits/images/195264534.jpg', 'C:/Users/marce/Desktop/polyvore_outfits/images/195275408.jpg', 'C:/Users/marce/Desktop/polyvore_outfits/images/195300921.jpg', 'C:/Users/marce/Desktop/polyvore_outfits/images/195422496.jpg', 'C:/Users/marce/Desktop/polyvore_outfits/images/195499184.jpg', 'C:/Users/marce/Desktop/polyvore_outfits/images/19558849.jpg', 'C:/Users/marce/Desktop/polyvore_outfits/images/195612225.jpg', 'C:/Users/marce/Desktop/polyvore_outfits/images/195624311.jpg', 'C:/Users/marce/Desktop/polyvore_outfits/images/195657561.jpg', 'C:/Users/marce/Desktop/polyvore_outfits/images/195665362.jpg', 'C:/Users/marce/Desktop/polyvore_outfits/images/195907445.jpg', 'C:/Users/marce/Desktop/polyvore_outfits/images/195963372.jpg', 'C:/Users/marce/Desktop/polyvore_outfits/images/196065595.jpg', 'C:/Users/marce/Desktop/polyvore_outfits/images/196089670.jpg', 'C:/Users/marce/Desktop/polyvore_outfits/images/196170504.jpg', 'C:/Users/marce/Desktop/polyvore_outfits/images/196316373.jpg', 'C:/Users/marce/Desktop/polyvore_outfits/images/196394820.jpg', 'C:/Users/marce/Desktop/polyvore_outfits/images/196434324.jpg', 'C:/Users/marce/Desktop/polyvore_outfits/images/196443884.jpg', 'C:/Users/marce/Desktop/polyvore_outfits/images/196569096.jpg', 'C:/Users/marce/Desktop/polyvore_outfits/images/196599639.jpg', 'C:/Users/marce/Desktop/polyvore_outfits/images/197099128.jpg', 'C:/Users/marce/Desktop/polyvore_outfits/images/197197853.jpg', 'C:/Users/marce/Desktop/polyvore_outfits/images/197302383.jpg', 'C:/Users/marce/Desktop/polyvore_outfits/images/197314697.jpg', 'C:/Users/marce/Desktop/polyvore_outfits/images/197335111.jpg', 'C:/Users/marce/Desktop/polyvore_outfits/images/197335684.jpg', 'C:/Users/marce/Desktop/polyvore_outfits/images/197454309.jpg', 'C:/Users/marce/Desktop/polyvore_outfits/images/197540729.jpg', 'C:/Users/marce/Desktop/polyvore_outfits/images/197704534.jpg', 'C:/Users/marce/Desktop/polyvore_outfits/images/198296804.jpg', 'C:/Users/marce/Desktop/polyvore_outfits/images/198366118.jpg', 'C:/Users/marce/Desktop/polyvore_outfits/images/198388433.jpg', 'C:/Users/marce/Desktop/polyvore_outfits/images/198419290.jpg', 'C:/Users/marce/Desktop/polyvore_outfits/images/198481103.jpg', 'C:/Users/marce/Desktop/polyvore_outfits/images/198615191.jpg', 'C:/Users/marce/Desktop/polyvore_outfits/images/198745091.jpg', 'C:/Users/marce/Desktop/polyvore_outfits/images/199191488.jpg', 'C:/Users/marce/Desktop/polyvore_outfits/images/199534489.jpg', 'C:/Users/marce/Desktop/polyvore_outfits/images/199609590.jpg', 'C:/Users/marce/Desktop/polyvore_outfits/images/199697873.jpg', 'C:/Users/marce/Desktop/polyvore_outfits/images/199748405.jpg', 'C:/Users/marce/Desktop/polyvore_outfits/images/199857444.jpg', 'C:/Users/marce/Desktop/polyvore_outfits/images/199951967.jpg', 'C:/Users/marce/Desktop/polyvore_outfits/images/199969525.jpg', 'C:/Users/marce/Desktop/polyvore_outfits/images/200155316.jpg', 'C:/Users/marce/Desktop/polyvore_outfits/images/200164107.jpg', 'C:/Users/marce/Desktop/polyvore_outfits/images/200165558.jpg', 'C:/Users/marce/Desktop/polyvore_outfits/images/200398359.jpg', 'C:/Users/marce/Desktop/polyvore_outfits/images/200399983.jpg', 'C:/Users/marce/Desktop/polyvore_outfits/images/200751032.jpg', 'C:/Users/marce/Desktop/polyvore_outfits/images/200888072.jpg', 'C:/Users/marce/Desktop/polyvore_outfits/images/200919215.jpg', 'C:/Users/marce/Desktop/polyvore_outfits/images/200934381.jpg', 'C:/Users/marce/Desktop/polyvore_outfits/images/200944061.jpg', 'C:/Users/marce/Desktop/polyvore_outfits/images/201089329.jpg', 'C:/Users/marce/Desktop/polyvore_outfits/images/201261720.jpg', 'C:/Users/marce/Desktop/polyvore_outfits/images/201261794.jpg', 'C:/Users/marce/Desktop/polyvore_outfits/images/201317890.jpg', 'C:/Users/marce/Desktop/polyvore_outfits/images/201389736.jpg', 'C:/Users/marce/Desktop/polyvore_outfits/images/201436222.jpg', 'C:/Users/marce/Desktop/polyvore_outfits/images/201459999.jpg', 'C:/Users/marce/Desktop/polyvore_outfits/images/201598006.jpg', 'C:/Users/marce/Desktop/polyvore_outfits/images/201653121.jpg', 'C:/Users/marce/Desktop/polyvore_outfits/images/201700577.jpg', 'C:/Users/marce/Desktop/polyvore_outfits/images/201700647.jpg', 'C:/Users/marce/Desktop/polyvore_outfits/images/201728998.jpg', 'C:/Users/marce/Desktop/polyvore_outfits/images/201893338.jpg', 'C:/Users/marce/Desktop/polyvore_outfits/images/201905007.jpg', 'C:/Users/marce/Desktop/polyvore_outfits/images/201995808.jpg', 'C:/Users/marce/Desktop/polyvore_outfits/images/202014524.jpg', 'C:/Users/marce/Desktop/polyvore_outfits/images/202150173.jpg', 'C:/Users/marce/Desktop/polyvore_outfits/images/202205281.jpg', 'C:/Users/marce/Desktop/polyvore_outfits/images/202271381.jpg', 'C:/Users/marce/Desktop/polyvore_outfits/images/202392244.jpg', 'C:/Users/marce/Desktop/polyvore_outfits/images/202506007.jpg', 'C:/Users/marce/Desktop/polyvore_outfits/images/202544473.jpg', 'C:/Users/marce/Desktop/polyvore_outfits/images/202544497.jpg', 'C:/Users/marce/Desktop/polyvore_outfits/images/202554622.jpg', 'C:/Users/marce/Desktop/polyvore_outfits/images/202561319.jpg', 'C:/Users/marce/Desktop/polyvore_outfits/images/202872787.jpg', 'C:/Users/marce/Desktop/polyvore_outfits/images/202930140.jpg', 'C:/Users/marce/Desktop/polyvore_outfits/images/202980660.jpg', 'C:/Users/marce/Desktop/polyvore_outfits/images/203133556.jpg', 'C:/Users/marce/Desktop/polyvore_outfits/images/203387236.jpg', 'C:/Users/marce/Desktop/polyvore_outfits/images/203387650.jpg', 'C:/Users/marce/Desktop/polyvore_outfits/images/203388090.jpg', 'C:/Users/marce/Desktop/polyvore_outfits/images/203402259.jpg', 'C:/Users/marce/Desktop/polyvore_outfits/images/203764814.jpg', 'C:/Users/marce/Desktop/polyvore_outfits/images/203776452.jpg', 'C:/Users/marce/Desktop/polyvore_outfits/images/203778989.jpg', 'C:/Users/marce/Desktop/polyvore_outfits/images/204139945.jpg', 'C:/Users/marce/Desktop/polyvore_outfits/images/204139955.jpg', 'C:/Users/marce/Desktop/polyvore_outfits/images/204215086.jpg', 'C:/Users/marce/Desktop/polyvore_outfits/images/204375398.jpg', 'C:/Users/marce/Desktop/polyvore_outfits/images/204383324.jpg', 'C:/Users/marce/Desktop/polyvore_outfits/images/204466621.jpg', 'C:/Users/marce/Desktop/polyvore_outfits/images/204481858.jpg', 'C:/Users/marce/Desktop/polyvore_outfits/images/204563770.jpg', 'C:/Users/marce/Desktop/polyvore_outfits/images/20457195.jpg', 'C:/Users/marce/Desktop/polyvore_outfits/images/204614040.jpg', 'C:/Users/marce/Desktop/polyvore_outfits/images/204625635.jpg', 'C:/Users/marce/Desktop/polyvore_outfits/images/204626125.jpg', 'C:/Users/marce/Desktop/polyvore_outfits/images/204628054.jpg', 'C:/Users/marce/Desktop/polyvore_outfits/images/204632482.jpg', 'C:/Users/marce/Desktop/polyvore_outfits/images/204633807.jpg', 'C:/Users/marce/Desktop/polyvore_outfits/images/204642790.jpg', 'C:/Users/marce/Desktop/polyvore_outfits/images/204644044.jpg', 'C:/Users/marce/Desktop/polyvore_outfits/images/204645900.jpg', 'C:/Users/marce/Desktop/polyvore_outfits/images/204646621.jpg', 'C:/Users/marce/Desktop/polyvore_outfits/images/204652777.jpg', 'C:/Users/marce/Desktop/polyvore_outfits/images/204689883.jpg', 'C:/Users/marce/Desktop/polyvore_outfits/images/204739026.jpg', 'C:/Users/marce/Desktop/polyvore_outfits/images/204996573.jpg', 'C:/Users/marce/Desktop/polyvore_outfits/images/205019704.jpg', 'C:/Users/marce/Desktop/polyvore_outfits/images/205119085.jpg', 'C:/Users/marce/Desktop/polyvore_outfits/images/205159138.jpg', 'C:/Users/marce/Desktop/polyvore_outfits/images/205197942.jpg', 'C:/Users/marce/Desktop/polyvore_outfits/images/205303476.jpg', 'C:/Users/marce/Desktop/polyvore_outfits/images/205460029.jpg', 'C:/Users/marce/Desktop/polyvore_outfits/images/205528996.jpg', 'C:/Users/marce/Desktop/polyvore_outfits/images/205548720.jpg', 'C:/Users/marce/Desktop/polyvore_outfits/images/205752960.jpg', 'C:/Users/marce/Desktop/polyvore_outfits/images/206068247.jpg', 'C:/Users/marce/Desktop/polyvore_outfits/images/206126964.jpg', 'C:/Users/marce/Desktop/polyvore_outfits/images/206172251.jpg', 'C:/Users/marce/Desktop/polyvore_outfits/images/206224567.jpg', 'C:/Users/marce/Desktop/polyvore_outfits/images/206279004.jpg', 'C:/Users/marce/Desktop/polyvore_outfits/images/206338206.jpg', 'C:/Users/marce/Desktop/polyvore_outfits/images/206506762.jpg', 'C:/Users/marce/Desktop/polyvore_outfits/images/206506851.jpg', 'C:/Users/marce/Desktop/polyvore_outfits/images/206508914.jpg', 'C:/Users/marce/Desktop/polyvore_outfits/images/206511495.jpg', 'C:/Users/marce/Desktop/polyvore_outfits/images/206514558.jpg', 'C:/Users/marce/Desktop/polyvore_outfits/images/206528966.jpg', 'C:/Users/marce/Desktop/polyvore_outfits/images/206531114.jpg', 'C:/Users/marce/Desktop/polyvore_outfits/images/206547527.jpg', 'C:/Users/marce/Desktop/polyvore_outfits/images/206547541.jpg', 'C:/Users/marce/Desktop/polyvore_outfits/images/206561799.jpg', 'C:/Users/marce/Desktop/polyvore_outfits/images/206564061.jpg', 'C:/Users/marce/Desktop/polyvore_outfits/images/206565956.jpg', 'C:/Users/marce/Desktop/polyvore_outfits/images/206567916.jpg', 'C:/Users/marce/Desktop/polyvore_outfits/images/206615573.jpg', 'C:/Users/marce/Desktop/polyvore_outfits/images/206642666.jpg', 'C:/Users/marce/Desktop/polyvore_outfits/images/206711523.jpg', 'C:/Users/marce/Desktop/polyvore_outfits/images/206801003.jpg', 'C:/Users/marce/Desktop/polyvore_outfits/images/206879451.jpg', 'C:/Users/marce/Desktop/polyvore_outfits/images/206891115.jpg', 'C:/Users/marce/Desktop/polyvore_outfits/images/206891371.jpg', 'C:/Users/marce/Desktop/polyvore_outfits/images/206978579.jpg', 'C:/Users/marce/Desktop/polyvore_outfits/images/207061428.jpg', 'C:/Users/marce/Desktop/polyvore_outfits/images/207078519.jpg', 'C:/Users/marce/Desktop/polyvore_outfits/images/207078819.jpg', 'C:/Users/marce/Desktop/polyvore_outfits/images/207125171.jpg', 'C:/Users/marce/Desktop/polyvore_outfits/images/207140961.jpg', 'C:/Users/marce/Desktop/polyvore_outfits/images/207221949.jpg', 'C:/Users/marce/Desktop/polyvore_outfits/images/207375431.jpg', 'C:/Users/marce/Desktop/polyvore_outfits/images/207588216.jpg', 'C:/Users/marce/Desktop/polyvore_outfits/images/207768215.jpg', 'C:/Users/marce/Desktop/polyvore_outfits/images/207773342.jpg', 'C:/Users/marce/Desktop/polyvore_outfits/images/207775691.jpg', 'C:/Users/marce/Desktop/polyvore_outfits/images/207776419.jpg', 'C:/Users/marce/Desktop/polyvore_outfits/images/207776473.jpg', 'C:/Users/marce/Desktop/polyvore_outfits/images/207800354.jpg', 'C:/Users/marce/Desktop/polyvore_outfits/images/207857061.jpg', 'C:/Users/marce/Desktop/polyvore_outfits/images/207911632.jpg', 'C:/Users/marce/Desktop/polyvore_outfits/images/207912544.jpg', 'C:/Users/marce/Desktop/polyvore_outfits/images/207912597.jpg', 'C:/Users/marce/Desktop/polyvore_outfits/images/207951046.jpg', 'C:/Users/marce/Desktop/polyvore_outfits/images/207956613.jpg', 'C:/Users/marce/Desktop/polyvore_outfits/images/208218735.jpg', 'C:/Users/marce/Desktop/polyvore_outfits/images/208312660.jpg', 'C:/Users/marce/Desktop/polyvore_outfits/images/208330892.jpg', 'C:/Users/marce/Desktop/polyvore_outfits/images/208412573.jpg', 'C:/Users/marce/Desktop/polyvore_outfits/images/208425701.jpg', 'C:/Users/marce/Desktop/polyvore_outfits/images/208435198.jpg', 'C:/Users/marce/Desktop/polyvore_outfits/images/208447204.jpg', 'C:/Users/marce/Desktop/polyvore_outfits/images/208569519.jpg', 'C:/Users/marce/Desktop/polyvore_outfits/images/208573986.jpg', 'C:/Users/marce/Desktop/polyvore_outfits/images/208574694.jpg', 'C:/Users/marce/Desktop/polyvore_outfits/images/208574748.jpg', 'C:/Users/marce/Desktop/polyvore_outfits/images/208575008.jpg', 'C:/Users/marce/Desktop/polyvore_outfits/images/208575273.jpg', 'C:/Users/marce/Desktop/polyvore_outfits/images/208657108.jpg', 'C:/Users/marce/Desktop/polyvore_outfits/images/208776286.jpg', 'C:/Users/marce/Desktop/polyvore_outfits/images/208814063.jpg', 'C:/Users/marce/Desktop/polyvore_outfits/images/208899274.jpg', 'C:/Users/marce/Desktop/polyvore_outfits/images/208935876.jpg', 'C:/Users/marce/Desktop/polyvore_outfits/images/209022784.jpg', 'C:/Users/marce/Desktop/polyvore_outfits/images/209065608.jpg', 'C:/Users/marce/Desktop/polyvore_outfits/images/209072006.jpg', 'C:/Users/marce/Desktop/polyvore_outfits/images/209210145.jpg', 'C:/Users/marce/Desktop/polyvore_outfits/images/209224085.jpg', 'C:/Users/marce/Desktop/polyvore_outfits/images/209340678.jpg', 'C:/Users/marce/Desktop/polyvore_outfits/images/209470735.jpg', 'C:/Users/marce/Desktop/polyvore_outfits/images/209555110.jpg', 'C:/Users/marce/Desktop/polyvore_outfits/images/209603156.jpg', 'C:/Users/marce/Desktop/polyvore_outfits/images/209792615.jpg', 'C:/Users/marce/Desktop/polyvore_outfits/images/209795147.jpg', 'C:/Users/marce/Desktop/polyvore_outfits/images/209955155.jpg', 'C:/Users/marce/Desktop/polyvore_outfits/images/209967254.jpg', 'C:/Users/marce/Desktop/polyvore_outfits/images/210018572.jpg', 'C:/Users/marce/Desktop/polyvore_outfits/images/210223467.jpg', 'C:/Users/marce/Desktop/polyvore_outfits/images/210239661.jpg', 'C:/Users/marce/Desktop/polyvore_outfits/images/210321529.jpg', 'C:/Users/marce/Desktop/polyvore_outfits/images/210335912.jpg', 'C:/Users/marce/Desktop/polyvore_outfits/images/210447072.jpg', 'C:/Users/marce/Desktop/polyvore_outfits/images/210453139.jpg', 'C:/Users/marce/Desktop/polyvore_outfits/images/210454256.jpg', 'C:/Users/marce/Desktop/polyvore_outfits/images/210781637.jpg', 'C:/Users/marce/Desktop/polyvore_outfits/images/210786167.jpg', 'C:/Users/marce/Desktop/polyvore_outfits/images/210866000.jpg', 'C:/Users/marce/Desktop/polyvore_outfits/images/210899463.jpg', 'C:/Users/marce/Desktop/polyvore_outfits/images/211014020.jpg', 'C:/Users/marce/Desktop/polyvore_outfits/images/211726771.jpg', 'C:/Users/marce/Desktop/polyvore_outfits/images/211733778.jpg', 'C:/Users/marce/Desktop/polyvore_outfits/images/211735623.jpg', 'C:/Users/marce/Desktop/polyvore_outfits/images/211841285.jpg', 'C:/Users/marce/Desktop/polyvore_outfits/images/211983086.jpg', 'C:/Users/marce/Desktop/polyvore_outfits/images/212033850.jpg', 'C:/Users/marce/Desktop/polyvore_outfits/images/212126856.jpg', 'C:/Users/marce/Desktop/polyvore_outfits/images/212179893.jpg', 'C:/Users/marce/Desktop/polyvore_outfits/images/212235606.jpg', 'C:/Users/marce/Desktop/polyvore_outfits/images/21228740.jpg', 'C:/Users/marce/Desktop/polyvore_outfits/images/212469974.jpg', 'C:/Users/marce/Desktop/polyvore_outfits/images/212489228.jpg', 'C:/Users/marce/Desktop/polyvore_outfits/images/212871260.jpg', 'C:/Users/marce/Desktop/polyvore_outfits/images/212871894.jpg', 'C:/Users/marce/Desktop/polyvore_outfits/images/212877560.jpg', 'C:/Users/marce/Desktop/polyvore_outfits/images/213043315.jpg', 'C:/Users/marce/Desktop/polyvore_outfits/images/213114887.jpg', 'C:/Users/marce/Desktop/polyvore_outfits/images/213204307.jpg', 'C:/Users/marce/Desktop/polyvore_outfits/images/213225428.jpg', 'C:/Users/marce/Desktop/polyvore_outfits/images/213232634.jpg', 'C:/Users/marce/Desktop/polyvore_outfits/images/213341944.jpg', 'C:/Users/marce/Desktop/polyvore_outfits/images/213443759.jpg', 'C:/Users/marce/Desktop/polyvore_outfits/images/213670501.jpg', 'C:/Users/marce/Desktop/polyvore_outfits/images/213683473.jpg', 'C:/Users/marce/Desktop/polyvore_outfits/images/213860722.jpg', 'C:/Users/marce/Desktop/polyvore_outfits/images/213955588.jpg', 'C:/Users/marce/Desktop/polyvore_outfits/images/214180513.jpg', 'C:/Users/marce/Desktop/polyvore_outfits/images/214207557.jpg', 'C:/Users/marce/Desktop/polyvore_outfits/images/214385858.jpg', 'C:/Users/marce/Desktop/polyvore_outfits/images/214467687.jpg', 'C:/Users/marce/Desktop/polyvore_outfits/images/215096027.jpg', 'C:/Users/marce/Desktop/polyvore_outfits/images/215217690.jpg', 'C:/Users/marce/Desktop/polyvore_outfits/images/21536146.jpg', 'C:/Users/marce/Desktop/polyvore_outfits/images/215504379.jpg', 'C:/Users/marce/Desktop/polyvore_outfits/images/22027497.jpg', 'C:/Users/marce/Desktop/polyvore_outfits/images/22093468.jpg', 'C:/Users/marce/Desktop/polyvore_outfits/images/22297943.jpg', 'C:/Users/marce/Desktop/polyvore_outfits/images/22760240.jpg', 'C:/Users/marce/Desktop/polyvore_outfits/images/23710560.jpg', 'C:/Users/marce/Desktop/polyvore_outfits/images/23989875.jpg', 'C:/Users/marce/Desktop/polyvore_outfits/images/24169161.jpg', 'C:/Users/marce/Desktop/polyvore_outfits/images/24313172.jpg', 'C:/Users/marce/Desktop/polyvore_outfits/images/24657358.jpg', 'C:/Users/marce/Desktop/polyvore_outfits/images/27401726.jpg', 'C:/Users/marce/Desktop/polyvore_outfits/images/29275006.jpg', 'C:/Users/marce/Desktop/polyvore_outfits/images/29517080.jpg', 'C:/Users/marce/Desktop/polyvore_outfits/images/29517087.jpg', 'C:/Users/marce/Desktop/polyvore_outfits/images/29953250.jpg', 'C:/Users/marce/Desktop/polyvore_outfits/images/31394228.jpg', 'C:/Users/marce/Desktop/polyvore_outfits/images/32181128.jpg', 'C:/Users/marce/Desktop/polyvore_outfits/images/32610299.jpg', 'C:/Users/marce/Desktop/polyvore_outfits/images/32940416.jpg', 'C:/Users/marce/Desktop/polyvore_outfits/images/33677725.jpg', 'C:/Users/marce/Desktop/polyvore_outfits/images/33807891.jpg', 'C:/Users/marce/Desktop/polyvore_outfits/images/33831671.jpg', 'C:/Users/marce/Desktop/polyvore_outfits/images/33841594.jpg', 'C:/Users/marce/Desktop/polyvore_outfits/images/34109288.jpg', 'C:/Users/marce/Desktop/polyvore_outfits/images/34109292.jpg', 'C:/Users/marce/Desktop/polyvore_outfits/images/34610096.jpg', 'C:/Users/marce/Desktop/polyvore_outfits/images/34871082.jpg', 'C:/Users/marce/Desktop/polyvore_outfits/images/35106476.jpg', 'C:/Users/marce/Desktop/polyvore_outfits/images/35134351.jpg', 'C:/Users/marce/Desktop/polyvore_outfits/images/35162829.jpg', 'C:/Users/marce/Desktop/polyvore_outfits/images/35305640.jpg', 'C:/Users/marce/Desktop/polyvore_outfits/images/35451861.jpg', 'C:/Users/marce/Desktop/polyvore_outfits/images/36390108.jpg', 'C:/Users/marce/Desktop/polyvore_outfits/images/36654169.jpg', 'C:/Users/marce/Desktop/polyvore_outfits/images/36933815.jpg', 'C:/Users/marce/Desktop/polyvore_outfits/images/37089350.jpg', 'C:/Users/marce/Desktop/polyvore_outfits/images/37503457.jpg', 'C:/Users/marce/Desktop/polyvore_outfits/images/38320934.jpg', 'C:/Users/marce/Desktop/polyvore_outfits/images/38400478.jpg', 'C:/Users/marce/Desktop/polyvore_outfits/images/38715274.jpg', 'C:/Users/marce/Desktop/polyvore_outfits/images/38736547.jpg', 'C:/Users/marce/Desktop/polyvore_outfits/images/38737634.jpg', 'C:/Users/marce/Desktop/polyvore_outfits/images/39369678.jpg', 'C:/Users/marce/Desktop/polyvore_outfits/images/39405306.jpg', 'C:/Users/marce/Desktop/polyvore_outfits/images/40013049.jpg', 'C:/Users/marce/Desktop/polyvore_outfits/images/41363105.jpg', 'C:/Users/marce/Desktop/polyvore_outfits/images/41447361.jpg', 'C:/Users/marce/Desktop/polyvore_outfits/images/41613376.jpg', 'C:/Users/marce/Desktop/polyvore_outfits/images/42816751.jpg', 'C:/Users/marce/Desktop/polyvore_outfits/images/43232205.jpg', 'C:/Users/marce/Desktop/polyvore_outfits/images/44432219.jpg', 'C:/Users/marce/Desktop/polyvore_outfits/images/44465137.jpg', 'C:/Users/marce/Desktop/polyvore_outfits/images/44465142.jpg', 'C:/Users/marce/Desktop/polyvore_outfits/images/44983383.jpg', 'C:/Users/marce/Desktop/polyvore_outfits/images/45446991.jpg', 'C:/Users/marce/Desktop/polyvore_outfits/images/45661930.jpg', 'C:/Users/marce/Desktop/polyvore_outfits/images/45718531.jpg', 'C:/Users/marce/Desktop/polyvore_outfits/images/46252027.jpg', 'C:/Users/marce/Desktop/polyvore_outfits/images/46901149.jpg', 'C:/Users/marce/Desktop/polyvore_outfits/images/46920884.jpg', 'C:/Users/marce/Desktop/polyvore_outfits/images/47713642.jpg', 'C:/Users/marce/Desktop/polyvore_outfits/images/47763771.jpg', 'C:/Users/marce/Desktop/polyvore_outfits/images/47828576.jpg', 'C:/Users/marce/Desktop/polyvore_outfits/images/48307566.jpg', 'C:/Users/marce/Desktop/polyvore_outfits/images/48308330.jpg', 'C:/Users/marce/Desktop/polyvore_outfits/images/48308335.jpg', 'C:/Users/marce/Desktop/polyvore_outfits/images/48367176.jpg', 'C:/Users/marce/Desktop/polyvore_outfits/images/48677327.jpg', 'C:/Users/marce/Desktop/polyvore_outfits/images/48884621.jpg', 'C:/Users/marce/Desktop/polyvore_outfits/images/48962185.jpg', 'C:/Users/marce/Desktop/polyvore_outfits/images/49610122.jpg', 'C:/Users/marce/Desktop/polyvore_outfits/images/49614183.jpg', 'C:/Users/marce/Desktop/polyvore_outfits/images/49846962.jpg', 'C:/Users/marce/Desktop/polyvore_outfits/images/50118880.jpg', 'C:/Users/marce/Desktop/polyvore_outfits/images/50171718.jpg', 'C:/Users/marce/Desktop/polyvore_outfits/images/50234355.jpg', 'C:/Users/marce/Desktop/polyvore_outfits/images/50235496.jpg', 'C:/Users/marce/Desktop/polyvore_outfits/images/50259973.jpg', 'C:/Users/marce/Desktop/polyvore_outfits/images/50633818.jpg', 'C:/Users/marce/Desktop/polyvore_outfits/images/51072458.jpg', 'C:/Users/marce/Desktop/polyvore_outfits/images/51088769.jpg', 'C:/Users/marce/Desktop/polyvore_outfits/images/51278603.jpg', 'C:/Users/marce/Desktop/polyvore_outfits/images/51582622.jpg', 'C:/Users/marce/Desktop/polyvore_outfits/images/51761450.jpg', 'C:/Users/marce/Desktop/polyvore_outfits/images/51852695.jpg', 'C:/Users/marce/Desktop/polyvore_outfits/images/52000371.jpg', 'C:/Users/marce/Desktop/polyvore_outfits/images/52103031.jpg', 'C:/Users/marce/Desktop/polyvore_outfits/images/52120193.jpg', 'C:/Users/marce/Desktop/polyvore_outfits/images/52144504.jpg', 'C:/Users/marce/Desktop/polyvore_outfits/images/52152090.jpg', 'C:/Users/marce/Desktop/polyvore_outfits/images/52231772.jpg', 'C:/Users/marce/Desktop/polyvore_outfits/images/52368958.jpg', 'C:/Users/marce/Desktop/polyvore_outfits/images/52553974.jpg', 'C:/Users/marce/Desktop/polyvore_outfits/images/52674867.jpg', 'C:/Users/marce/Desktop/polyvore_outfits/images/52703557.jpg', 'C:/Users/marce/Desktop/polyvore_outfits/images/52745106.jpg', 'C:/Users/marce/Desktop/polyvore_outfits/images/52954824.jpg', 'C:/Users/marce/Desktop/polyvore_outfits/images/53074886.jpg', 'C:/Users/marce/Desktop/polyvore_outfits/images/53116128.jpg', 'C:/Users/marce/Desktop/polyvore_outfits/images/53132693.jpg', 'C:/Users/marce/Desktop/polyvore_outfits/images/53331292.jpg', 'C:/Users/marce/Desktop/polyvore_outfits/images/53410016.jpg', 'C:/Users/marce/Desktop/polyvore_outfits/images/53517849.jpg', 'C:/Users/marce/Desktop/polyvore_outfits/images/53518970.jpg', 'C:/Users/marce/Desktop/polyvore_outfits/images/53716854.jpg', 'C:/Users/marce/Desktop/polyvore_outfits/images/54698244.jpg', 'C:/Users/marce/Desktop/polyvore_outfits/images/55089686.jpg', 'C:/Users/marce/Desktop/polyvore_outfits/images/55164791.jpg', 'C:/Users/marce/Desktop/polyvore_outfits/images/55231850.jpg', 'C:/Users/marce/Desktop/polyvore_outfits/images/55307400.jpg', 'C:/Users/marce/Desktop/polyvore_outfits/images/55397429.jpg', 'C:/Users/marce/Desktop/polyvore_outfits/images/55682998.jpg', 'C:/Users/marce/Desktop/polyvore_outfits/images/55858001.jpg', 'C:/Users/marce/Desktop/polyvore_outfits/images/55937134.jpg', 'C:/Users/marce/Desktop/polyvore_outfits/images/57059259.jpg', 'C:/Users/marce/Desktop/polyvore_outfits/images/57112985.jpg', 'C:/Users/marce/Desktop/polyvore_outfits/images/57201143.jpg', 'C:/Users/marce/Desktop/polyvore_outfits/images/57356910.jpg', 'C:/Users/marce/Desktop/polyvore_outfits/images/57370797.jpg', 'C:/Users/marce/Desktop/polyvore_outfits/images/57419836.jpg', 'C:/Users/marce/Desktop/polyvore_outfits/images/57479822.jpg', 'C:/Users/marce/Desktop/polyvore_outfits/images/57491642.jpg', 'C:/Users/marce/Desktop/polyvore_outfits/images/57720370.jpg', 'C:/Users/marce/Desktop/polyvore_outfits/images/57957719.jpg', 'C:/Users/marce/Desktop/polyvore_outfits/images/58088338.jpg', 'C:/Users/marce/Desktop/polyvore_outfits/images/58177803.jpg', 'C:/Users/marce/Desktop/polyvore_outfits/images/58218393.jpg', 'C:/Users/marce/Desktop/polyvore_outfits/images/58468356.jpg', 'C:/Users/marce/Desktop/polyvore_outfits/images/58990398.jpg', 'C:/Users/marce/Desktop/polyvore_outfits/images/59488578.jpg', 'C:/Users/marce/Desktop/polyvore_outfits/images/59609713.jpg', 'C:/Users/marce/Desktop/polyvore_outfits/images/60045544.jpg', 'C:/Users/marce/Desktop/polyvore_outfits/images/60085141.jpg', 'C:/Users/marce/Desktop/polyvore_outfits/images/60119619.jpg', 'C:/Users/marce/Desktop/polyvore_outfits/images/60417471.jpg', 'C:/Users/marce/Desktop/polyvore_outfits/images/60425362.jpg', 'C:/Users/marce/Desktop/polyvore_outfits/images/61278865.jpg', 'C:/Users/marce/Desktop/polyvore_outfits/images/61289993.jpg', 'C:/Users/marce/Desktop/polyvore_outfits/images/61433679.jpg', 'C:/Users/marce/Desktop/polyvore_outfits/images/61507967.jpg', 'C:/Users/marce/Desktop/polyvore_outfits/images/61835062.jpg', 'C:/Users/marce/Desktop/polyvore_outfits/images/61835831.jpg', 'C:/Users/marce/Desktop/polyvore_outfits/images/62030640.jpg', 'C:/Users/marce/Desktop/polyvore_outfits/images/62194487.jpg', 'C:/Users/marce/Desktop/polyvore_outfits/images/62464949.jpg', 'C:/Users/marce/Desktop/polyvore_outfits/images/62499657.jpg', 'C:/Users/marce/Desktop/polyvore_outfits/images/62602836.jpg', 'C:/Users/marce/Desktop/polyvore_outfits/images/62698602.jpg', 'C:/Users/marce/Desktop/polyvore_outfits/images/62833514.jpg', 'C:/Users/marce/Desktop/polyvore_outfits/images/62990782.jpg', 'C:/Users/marce/Desktop/polyvore_outfits/images/63090451.jpg', 'C:/Users/marce/Desktop/polyvore_outfits/images/6315629.jpg', 'C:/Users/marce/Desktop/polyvore_outfits/images/63206882.jpg', 'C:/Users/marce/Desktop/polyvore_outfits/images/63300024.jpg', 'C:/Users/marce/Desktop/polyvore_outfits/images/63426758.jpg', 'C:/Users/marce/Desktop/polyvore_outfits/images/63757495.jpg', 'C:/Users/marce/Desktop/polyvore_outfits/images/63853934.jpg', 'C:/Users/marce/Desktop/polyvore_outfits/images/63874498.jpg', 'C:/Users/marce/Desktop/polyvore_outfits/images/64080343.jpg', 'C:/Users/marce/Desktop/polyvore_outfits/images/64110189.jpg', 'C:/Users/marce/Desktop/polyvore_outfits/images/64110196.jpg', 'C:/Users/marce/Desktop/polyvore_outfits/images/64390294.jpg', 'C:/Users/marce/Desktop/polyvore_outfits/images/64591603.jpg', 'C:/Users/marce/Desktop/polyvore_outfits/images/64615827.jpg', 'C:/Users/marce/Desktop/polyvore_outfits/images/64748404.jpg', 'C:/Users/marce/Desktop/polyvore_outfits/images/64800139.jpg', 'C:/Users/marce/Desktop/polyvore_outfits/images/64946515.jpg', 'C:/Users/marce/Desktop/polyvore_outfits/images/65202387.jpg', 'C:/Users/marce/Desktop/polyvore_outfits/images/65234060.jpg', 'C:/Users/marce/Desktop/polyvore_outfits/images/65254330.jpg', 'C:/Users/marce/Desktop/polyvore_outfits/images/65273364.jpg', 'C:/Users/marce/Desktop/polyvore_outfits/images/66190182.jpg', 'C:/Users/marce/Desktop/polyvore_outfits/images/6662886.jpg', 'C:/Users/marce/Desktop/polyvore_outfits/images/66729317.jpg', 'C:/Users/marce/Desktop/polyvore_outfits/images/66753639.jpg', 'C:/Users/marce/Desktop/polyvore_outfits/images/67022520.jpg', 'C:/Users/marce/Desktop/polyvore_outfits/images/67087194.jpg', 'C:/Users/marce/Desktop/polyvore_outfits/images/67245022.jpg', 'C:/Users/marce/Desktop/polyvore_outfits/images/67301723.jpg', 'C:/Users/marce/Desktop/polyvore_outfits/images/68129318.jpg', 'C:/Users/marce/Desktop/polyvore_outfits/images/68185751.jpg', 'C:/Users/marce/Desktop/polyvore_outfits/images/68290111.jpg', 'C:/Users/marce/Desktop/polyvore_outfits/images/68307637.jpg', 'C:/Users/marce/Desktop/polyvore_outfits/images/68644403.jpg', 'C:/Users/marce/Desktop/polyvore_outfits/images/68910652.jpg', 'C:/Users/marce/Desktop/polyvore_outfits/images/69214380.jpg', 'C:/Users/marce/Desktop/polyvore_outfits/images/69826714.jpg', 'C:/Users/marce/Desktop/polyvore_outfits/images/70111323.jpg', 'C:/Users/marce/Desktop/polyvore_outfits/images/70624054.jpg', 'C:/Users/marce/Desktop/polyvore_outfits/images/70626735.jpg', 'C:/Users/marce/Desktop/polyvore_outfits/images/70965558.jpg', 'C:/Users/marce/Desktop/polyvore_outfits/images/71138721.jpg', 'C:/Users/marce/Desktop/polyvore_outfits/images/71212466.jpg', 'C:/Users/marce/Desktop/polyvore_outfits/images/71479862.jpg', 'C:/Users/marce/Desktop/polyvore_outfits/images/72014808.jpg', 'C:/Users/marce/Desktop/polyvore_outfits/images/72052814.jpg', 'C:/Users/marce/Desktop/polyvore_outfits/images/72390908.jpg', 'C:/Users/marce/Desktop/polyvore_outfits/images/72438789.jpg', 'C:/Users/marce/Desktop/polyvore_outfits/images/72456440.jpg', 'C:/Users/marce/Desktop/polyvore_outfits/images/72473186.jpg', 'C:/Users/marce/Desktop/polyvore_outfits/images/72897232.jpg', 'C:/Users/marce/Desktop/polyvore_outfits/images/72933796.jpg', 'C:/Users/marce/Desktop/polyvore_outfits/images/73046243.jpg', 'C:/Users/marce/Desktop/polyvore_outfits/images/73076759.jpg', 'C:/Users/marce/Desktop/polyvore_outfits/images/73186898.jpg', 'C:/Users/marce/Desktop/polyvore_outfits/images/73443815.jpg', 'C:/Users/marce/Desktop/polyvore_outfits/images/73710881.jpg', 'C:/Users/marce/Desktop/polyvore_outfits/images/73711226.jpg', 'C:/Users/marce/Desktop/polyvore_outfits/images/74186461.jpg', 'C:/Users/marce/Desktop/polyvore_outfits/images/74232212.jpg', 'C:/Users/marce/Desktop/polyvore_outfits/images/74720598.jpg', 'C:/Users/marce/Desktop/polyvore_outfits/images/75158016.jpg', 'C:/Users/marce/Desktop/polyvore_outfits/images/75158018.jpg', 'C:/Users/marce/Desktop/polyvore_outfits/images/75168675.jpg', 'C:/Users/marce/Desktop/polyvore_outfits/images/75409318.jpg', 'C:/Users/marce/Desktop/polyvore_outfits/images/75498569.jpg', 'C:/Users/marce/Desktop/polyvore_outfits/images/75550208.jpg', 'C:/Users/marce/Desktop/polyvore_outfits/images/76081180.jpg', 'C:/Users/marce/Desktop/polyvore_outfits/images/76133896.jpg', 'C:/Users/marce/Desktop/polyvore_outfits/images/76167182.jpg', 'C:/Users/marce/Desktop/polyvore_outfits/images/76210897.jpg', 'C:/Users/marce/Desktop/polyvore_outfits/images/76325988.jpg', 'C:/Users/marce/Desktop/polyvore_outfits/images/76596195.jpg', 'C:/Users/marce/Desktop/polyvore_outfits/images/76712901.jpg', 'C:/Users/marce/Desktop/polyvore_outfits/images/76757509.jpg', 'C:/Users/marce/Desktop/polyvore_outfits/images/76821402.jpg', 'C:/Users/marce/Desktop/polyvore_outfits/images/76911191.jpg', 'C:/Users/marce/Desktop/polyvore_outfits/images/76968046.jpg', 'C:/Users/marce/Desktop/polyvore_outfits/images/76994292.jpg', 'C:/Users/marce/Desktop/polyvore_outfits/images/77021746.jpg', 'C:/Users/marce/Desktop/polyvore_outfits/images/77096071.jpg', 'C:/Users/marce/Desktop/polyvore_outfits/images/77158431.jpg', 'C:/Users/marce/Desktop/polyvore_outfits/images/77272553.jpg', 'C:/Users/marce/Desktop/polyvore_outfits/images/7731220.jpg', 'C:/Users/marce/Desktop/polyvore_outfits/images/77336123.jpg', 'C:/Users/marce/Desktop/polyvore_outfits/images/77403879.jpg', 'C:/Users/marce/Desktop/polyvore_outfits/images/77405955.jpg', 'C:/Users/marce/Desktop/polyvore_outfits/images/77408384.jpg', 'C:/Users/marce/Desktop/polyvore_outfits/images/77513457.jpg', 'C:/Users/marce/Desktop/polyvore_outfits/images/77516917.jpg', 'C:/Users/marce/Desktop/polyvore_outfits/images/7765544.jpg', 'C:/Users/marce/Desktop/polyvore_outfits/images/77982499.jpg', 'C:/Users/marce/Desktop/polyvore_outfits/images/77991006.jpg', 'C:/Users/marce/Desktop/polyvore_outfits/images/77991104.jpg', 'C:/Users/marce/Desktop/polyvore_outfits/images/78068950.jpg', 'C:/Users/marce/Desktop/polyvore_outfits/images/78117265.jpg', 'C:/Users/marce/Desktop/polyvore_outfits/images/78182186.jpg', 'C:/Users/marce/Desktop/polyvore_outfits/images/78354035.jpg', 'C:/Users/marce/Desktop/polyvore_outfits/images/78799606.jpg', 'C:/Users/marce/Desktop/polyvore_outfits/images/78802503.jpg', 'C:/Users/marce/Desktop/polyvore_outfits/images/78860473.jpg', 'C:/Users/marce/Desktop/polyvore_outfits/images/78978627.jpg', 'C:/Users/marce/Desktop/polyvore_outfits/images/79041963.jpg', 'C:/Users/marce/Desktop/polyvore_outfits/images/7992414.jpg', 'C:/Users/marce/Desktop/polyvore_outfits/images/80158280.jpg', 'C:/Users/marce/Desktop/polyvore_outfits/images/80241659.jpg', 'C:/Users/marce/Desktop/polyvore_outfits/images/80575493.jpg', 'C:/Users/marce/Desktop/polyvore_outfits/images/81831113.jpg', 'C:/Users/marce/Desktop/polyvore_outfits/images/82332876.jpg', 'C:/Users/marce/Desktop/polyvore_outfits/images/82332973.jpg', 'C:/Users/marce/Desktop/polyvore_outfits/images/82332975.jpg', 'C:/Users/marce/Desktop/polyvore_outfits/images/83205434.jpg', 'C:/Users/marce/Desktop/polyvore_outfits/images/83817612.jpg', 'C:/Users/marce/Desktop/polyvore_outfits/images/84086906.jpg', 'C:/Users/marce/Desktop/polyvore_outfits/images/84173401.jpg', 'C:/Users/marce/Desktop/polyvore_outfits/images/84302276.jpg', 'C:/Users/marce/Desktop/polyvore_outfits/images/84509816.jpg', 'C:/Users/marce/Desktop/polyvore_outfits/images/84965807.jpg', 'C:/Users/marce/Desktop/polyvore_outfits/images/85415779.jpg', 'C:/Users/marce/Desktop/polyvore_outfits/images/85419931.jpg', 'C:/Users/marce/Desktop/polyvore_outfits/images/86194367.jpg', 'C:/Users/marce/Desktop/polyvore_outfits/images/86238006.jpg', 'C:/Users/marce/Desktop/polyvore_outfits/images/86371040.jpg', 'C:/Users/marce/Desktop/polyvore_outfits/images/86371046.jpg', 'C:/Users/marce/Desktop/polyvore_outfits/images/86761657.jpg', 'C:/Users/marce/Desktop/polyvore_outfits/images/8676484.jpg', 'C:/Users/marce/Desktop/polyvore_outfits/images/8741826.jpg', 'C:/Users/marce/Desktop/polyvore_outfits/images/87564819.jpg', 'C:/Users/marce/Desktop/polyvore_outfits/images/87750670.jpg', 'C:/Users/marce/Desktop/polyvore_outfits/images/88156682.jpg', 'C:/Users/marce/Desktop/polyvore_outfits/images/88348964.jpg', 'C:/Users/marce/Desktop/polyvore_outfits/images/88506013.jpg', 'C:/Users/marce/Desktop/polyvore_outfits/images/88532667.jpg', 'C:/Users/marce/Desktop/polyvore_outfits/images/88961011.jpg', 'C:/Users/marce/Desktop/polyvore_outfits/images/89024128.jpg', 'C:/Users/marce/Desktop/polyvore_outfits/images/89111111.jpg', 'C:/Users/marce/Desktop/polyvore_outfits/images/89130143.jpg', 'C:/Users/marce/Desktop/polyvore_outfits/images/90466160.jpg', 'C:/Users/marce/Desktop/polyvore_outfits/images/90588168.jpg', 'C:/Users/marce/Desktop/polyvore_outfits/images/90772968.jpg', 'C:/Users/marce/Desktop/polyvore_outfits/images/90802350.jpg', 'C:/Users/marce/Desktop/polyvore_outfits/images/91161597.jpg', 'C:/Users/marce/Desktop/polyvore_outfits/images/91361804.jpg', 'C:/Users/marce/Desktop/polyvore_outfits/images/91643871.jpg', 'C:/Users/marce/Desktop/polyvore_outfits/images/91696483.jpg', 'C:/Users/marce/Desktop/polyvore_outfits/images/92166860.jpg', 'C:/Users/marce/Desktop/polyvore_outfits/images/92416244.jpg', 'C:/Users/marce/Desktop/polyvore_outfits/images/93451517.jpg', 'C:/Users/marce/Desktop/polyvore_outfits/images/93621985.jpg', 'C:/Users/marce/Desktop/polyvore_outfits/images/93854841.jpg', 'C:/Users/marce/Desktop/polyvore_outfits/images/94255025.jpg', 'C:/Users/marce/Desktop/polyvore_outfits/images/95048249.jpg', 'C:/Users/marce/Desktop/polyvore_outfits/images/95211721.jpg', 'C:/Users/marce/Desktop/polyvore_outfits/images/95611044.jpg', 'C:/Users/marce/Desktop/polyvore_outfits/images/96221070.jpg', 'C:/Users/marce/Desktop/polyvore_outfits/images/96759034.jpg', 'C:/Users/marce/Desktop/polyvore_outfits/images/96759097.jpg', 'C:/Users/marce/Desktop/polyvore_outfits/images/97140607.jpg', 'C:/Users/marce/Desktop/polyvore_outfits/images/9805594.jpg', 'C:/Users/marce/Desktop/polyvore_outfits/images/99147278.jpg', 'C:/Users/marce/Desktop/polyvore_outfits/images/99469904.jpg', 'C:/Users/marce/Desktop/polyvore_outfits/images/99720046.jpg', 'C:/Users/marce/Desktop/polyvore_outfits/images/99832629.jpg']\n",
      "<_BatchDataset element_spec=(TensorSpec(shape=(None, 300, 300, 3), dtype=tf.uint8, name=None), TensorSpec(shape=(None,), dtype=tf.int32, name=None))>\n"
     ]
    }
   ],
   "source": [
    "import tensorflow as tf\n",
    "import json\n",
    "import os\n",
    "\n",
    "# Definisci il percorso della cartella contenente le immagini\n",
    "image_directory = 'C:/Users/marce/Desktop/polyvore_outfits/images/'\n",
    "\n",
    "# Carica il file JSON delle etichette\n",
    "json_file_path = 'Dataset/train_set_acc.json'\n",
    "\n",
    "with open(json_file_path, 'r') as json_file:\n",
    "    label_data = json.load(json_file)\n",
    "\n",
    "# Crea un dizionario per mappare item_id alle etichette semantiche\n",
    "item_id_to_label = {}\n",
    "for entry in label_data:\n",
    "    for item in entry['items']:\n",
    "        item_id = item['item_id']\n",
    "        category_id = item['category_id']\n",
    "        item_id_to_label[item_id] = category_id\n",
    "\n",
    "# Creare una lista di tuple (nome dell'immagine, etichetta semantica)\n",
    "image_label_pairs = []\n",
    "for root, _, files in os.walk(image_directory):\n",
    "    for file in files:\n",
    "        # Estrai l'item_id dal nome dell'immagine\n",
    "        item_id = os.path.splitext(file)[0]\n",
    "        category_id = item_id_to_label.get(item_id, None)\n",
    "        if category_id == \"belt\":\n",
    "            image_path = os.path.join(root, file)\n",
    "            image_label_pairs.append((image_path, category_id))\n",
    "\n",
    "# Creare un dataset TensorFlow dalla lista di coppie immagine-etichetta\n",
    "image_paths, labels = zip(*image_label_pairs)\n",
    "image_paths = list(image_paths)\n",
    "print(image_paths)\n",
    "labels = list(labels)\n",
    "\n",
    "# Converte le etichette semantiche in interi (necessario per poi poter effettuare i merge all'interno del generatore e del discriminatore)\n",
    "label_mapping = {\"belt\": 0}\n",
    "def label_to_integer(label):\n",
    "    return label_mapping[label]\n",
    "\n",
    "labels = [label_to_integer(label) for label in labels]\n",
    "\n",
    "# Creare un dataset TensorFlow\n",
    "batch_size = 32\n",
    "image_size = (300, 300)\n",
    "\n",
    "def load_and_preprocess_image(image_path, label):\n",
    "    # Carica e preelabora l'immagine\n",
    "    image = tf.io.read_file(image_path)\n",
    "    image = tf.image.decode_jpeg(image, channels=3)\n",
    "    image = tf.image.resize(image, image_size)\n",
    "    image = tf.cast(image, tf.uint8)\n",
    "    return image, label\n",
    "\n",
    "# Creare un dataset da coppie immagine-etichetta\n",
    "dataset_belt = tf.data.Dataset.from_tensor_slices((image_paths, labels))\n",
    "dataset_belt = dataset_belt.map(load_and_preprocess_image)\n",
    "\n",
    "# Per aggiungere il batch size alla dimensione del tensore per il dataset\n",
    "dataset_belt = dataset_belt.batch(batch_size)\n",
    "\n",
    "# Stampa il dataset\n",
    "print(dataset_belt)\n"
   ],
   "metadata": {
    "collapsed": false,
    "ExecuteTime": {
     "end_time": "2023-09-29T07:57:37.751914800Z",
     "start_time": "2023-09-29T07:57:35.323237800Z"
    }
   },
   "id": "9de8f9918c515eec"
  },
  {
   "cell_type": "markdown",
   "source": [
    "Lavoriamo sul dataset di validation come abbiamo lavorato sul dataset di training"
   ],
   "metadata": {
    "collapsed": false
   },
   "id": "bf1c31cb7bf852a"
  },
  {
   "cell_type": "code",
   "execution_count": 14,
   "outputs": [
    {
     "name": "stdout",
     "output_type": "stream",
     "text": [
      "['C:/Users/marce/Desktop/polyvore_outfits/images/101141108.jpg', 'C:/Users/marce/Desktop/polyvore_outfits/images/102274212.jpg', 'C:/Users/marce/Desktop/polyvore_outfits/images/103448971.jpg', 'C:/Users/marce/Desktop/polyvore_outfits/images/108666581.jpg', 'C:/Users/marce/Desktop/polyvore_outfits/images/109324353.jpg', 'C:/Users/marce/Desktop/polyvore_outfits/images/113873712.jpg', 'C:/Users/marce/Desktop/polyvore_outfits/images/114456415.jpg', 'C:/Users/marce/Desktop/polyvore_outfits/images/116237797.jpg', 'C:/Users/marce/Desktop/polyvore_outfits/images/120656841.jpg', 'C:/Users/marce/Desktop/polyvore_outfits/images/123062451.jpg', 'C:/Users/marce/Desktop/polyvore_outfits/images/125556182.jpg', 'C:/Users/marce/Desktop/polyvore_outfits/images/125751650.jpg', 'C:/Users/marce/Desktop/polyvore_outfits/images/126349844.jpg', 'C:/Users/marce/Desktop/polyvore_outfits/images/127637100.jpg', 'C:/Users/marce/Desktop/polyvore_outfits/images/130476046.jpg', 'C:/Users/marce/Desktop/polyvore_outfits/images/131058548.jpg', 'C:/Users/marce/Desktop/polyvore_outfits/images/131586141.jpg', 'C:/Users/marce/Desktop/polyvore_outfits/images/132208535.jpg', 'C:/Users/marce/Desktop/polyvore_outfits/images/132218703.jpg', 'C:/Users/marce/Desktop/polyvore_outfits/images/132570322.jpg', 'C:/Users/marce/Desktop/polyvore_outfits/images/132744569.jpg', 'C:/Users/marce/Desktop/polyvore_outfits/images/132811010.jpg', 'C:/Users/marce/Desktop/polyvore_outfits/images/133375738.jpg', 'C:/Users/marce/Desktop/polyvore_outfits/images/134443308.jpg', 'C:/Users/marce/Desktop/polyvore_outfits/images/138424848.jpg', 'C:/Users/marce/Desktop/polyvore_outfits/images/139510624.jpg', 'C:/Users/marce/Desktop/polyvore_outfits/images/144926563.jpg', 'C:/Users/marce/Desktop/polyvore_outfits/images/145022610.jpg', 'C:/Users/marce/Desktop/polyvore_outfits/images/146722466.jpg', 'C:/Users/marce/Desktop/polyvore_outfits/images/147852567.jpg', 'C:/Users/marce/Desktop/polyvore_outfits/images/149636829.jpg', 'C:/Users/marce/Desktop/polyvore_outfits/images/149684821.jpg', 'C:/Users/marce/Desktop/polyvore_outfits/images/150234243.jpg', 'C:/Users/marce/Desktop/polyvore_outfits/images/150256013.jpg', 'C:/Users/marce/Desktop/polyvore_outfits/images/150357610.jpg', 'C:/Users/marce/Desktop/polyvore_outfits/images/150552591.jpg', 'C:/Users/marce/Desktop/polyvore_outfits/images/151556023.jpg', 'C:/Users/marce/Desktop/polyvore_outfits/images/152244426.jpg', 'C:/Users/marce/Desktop/polyvore_outfits/images/152459077.jpg', 'C:/Users/marce/Desktop/polyvore_outfits/images/152902708.jpg', 'C:/Users/marce/Desktop/polyvore_outfits/images/156026962.jpg', 'C:/Users/marce/Desktop/polyvore_outfits/images/156759064.jpg', 'C:/Users/marce/Desktop/polyvore_outfits/images/156839141.jpg', 'C:/Users/marce/Desktop/polyvore_outfits/images/156935902.jpg', 'C:/Users/marce/Desktop/polyvore_outfits/images/156981856.jpg', 'C:/Users/marce/Desktop/polyvore_outfits/images/157874508.jpg', 'C:/Users/marce/Desktop/polyvore_outfits/images/157993979.jpg', 'C:/Users/marce/Desktop/polyvore_outfits/images/160553476.jpg', 'C:/Users/marce/Desktop/polyvore_outfits/images/160981132.jpg', 'C:/Users/marce/Desktop/polyvore_outfits/images/161036009.jpg', 'C:/Users/marce/Desktop/polyvore_outfits/images/161606986.jpg', 'C:/Users/marce/Desktop/polyvore_outfits/images/161626861.jpg', 'C:/Users/marce/Desktop/polyvore_outfits/images/162640444.jpg', 'C:/Users/marce/Desktop/polyvore_outfits/images/163619426.jpg', 'C:/Users/marce/Desktop/polyvore_outfits/images/166262168.jpg', 'C:/Users/marce/Desktop/polyvore_outfits/images/167252987.jpg', 'C:/Users/marce/Desktop/polyvore_outfits/images/167653122.jpg', 'C:/Users/marce/Desktop/polyvore_outfits/images/169022058.jpg', 'C:/Users/marce/Desktop/polyvore_outfits/images/169022441.jpg', 'C:/Users/marce/Desktop/polyvore_outfits/images/169780411.jpg', 'C:/Users/marce/Desktop/polyvore_outfits/images/170125956.jpg', 'C:/Users/marce/Desktop/polyvore_outfits/images/171940172.jpg', 'C:/Users/marce/Desktop/polyvore_outfits/images/172123537.jpg', 'C:/Users/marce/Desktop/polyvore_outfits/images/173259911.jpg', 'C:/Users/marce/Desktop/polyvore_outfits/images/177334361.jpg', 'C:/Users/marce/Desktop/polyvore_outfits/images/178562537.jpg', 'C:/Users/marce/Desktop/polyvore_outfits/images/179218523.jpg', 'C:/Users/marce/Desktop/polyvore_outfits/images/179542670.jpg', 'C:/Users/marce/Desktop/polyvore_outfits/images/180119766.jpg', 'C:/Users/marce/Desktop/polyvore_outfits/images/180492386.jpg', 'C:/Users/marce/Desktop/polyvore_outfits/images/181443802.jpg', 'C:/Users/marce/Desktop/polyvore_outfits/images/183032278.jpg', 'C:/Users/marce/Desktop/polyvore_outfits/images/183792423.jpg', 'C:/Users/marce/Desktop/polyvore_outfits/images/183809722.jpg', 'C:/Users/marce/Desktop/polyvore_outfits/images/183833339.jpg', 'C:/Users/marce/Desktop/polyvore_outfits/images/184455120.jpg', 'C:/Users/marce/Desktop/polyvore_outfits/images/185057027.jpg', 'C:/Users/marce/Desktop/polyvore_outfits/images/185522649.jpg', 'C:/Users/marce/Desktop/polyvore_outfits/images/186480973.jpg', 'C:/Users/marce/Desktop/polyvore_outfits/images/186561733.jpg', 'C:/Users/marce/Desktop/polyvore_outfits/images/186977881.jpg', 'C:/Users/marce/Desktop/polyvore_outfits/images/187583713.jpg', 'C:/Users/marce/Desktop/polyvore_outfits/images/188261628.jpg', 'C:/Users/marce/Desktop/polyvore_outfits/images/188355543.jpg', 'C:/Users/marce/Desktop/polyvore_outfits/images/188383420.jpg', 'C:/Users/marce/Desktop/polyvore_outfits/images/188673821.jpg', 'C:/Users/marce/Desktop/polyvore_outfits/images/18953732.jpg', 'C:/Users/marce/Desktop/polyvore_outfits/images/190492367.jpg', 'C:/Users/marce/Desktop/polyvore_outfits/images/192562884.jpg', 'C:/Users/marce/Desktop/polyvore_outfits/images/193729969.jpg', 'C:/Users/marce/Desktop/polyvore_outfits/images/193775957.jpg', 'C:/Users/marce/Desktop/polyvore_outfits/images/194379737.jpg', 'C:/Users/marce/Desktop/polyvore_outfits/images/194918735.jpg', 'C:/Users/marce/Desktop/polyvore_outfits/images/195189563.jpg', 'C:/Users/marce/Desktop/polyvore_outfits/images/195517029.jpg', 'C:/Users/marce/Desktop/polyvore_outfits/images/196569096.jpg', 'C:/Users/marce/Desktop/polyvore_outfits/images/197097065.jpg', 'C:/Users/marce/Desktop/polyvore_outfits/images/199410248.jpg', 'C:/Users/marce/Desktop/polyvore_outfits/images/200319732.jpg', 'C:/Users/marce/Desktop/polyvore_outfits/images/200758418.jpg', 'C:/Users/marce/Desktop/polyvore_outfits/images/202847476.jpg', 'C:/Users/marce/Desktop/polyvore_outfits/images/203776455.jpg', 'C:/Users/marce/Desktop/polyvore_outfits/images/205303476.jpg', 'C:/Users/marce/Desktop/polyvore_outfits/images/206506834.jpg', 'C:/Users/marce/Desktop/polyvore_outfits/images/206545478.jpg', 'C:/Users/marce/Desktop/polyvore_outfits/images/206547541.jpg', 'C:/Users/marce/Desktop/polyvore_outfits/images/206564053.jpg', 'C:/Users/marce/Desktop/polyvore_outfits/images/206683100.jpg', 'C:/Users/marce/Desktop/polyvore_outfits/images/206991249.jpg', 'C:/Users/marce/Desktop/polyvore_outfits/images/208929921.jpg', 'C:/Users/marce/Desktop/polyvore_outfits/images/211013624.jpg', 'C:/Users/marce/Desktop/polyvore_outfits/images/211395073.jpg', 'C:/Users/marce/Desktop/polyvore_outfits/images/211581517.jpg', 'C:/Users/marce/Desktop/polyvore_outfits/images/212185899.jpg', 'C:/Users/marce/Desktop/polyvore_outfits/images/212199848.jpg', 'C:/Users/marce/Desktop/polyvore_outfits/images/213234810.jpg', 'C:/Users/marce/Desktop/polyvore_outfits/images/213459696.jpg', 'C:/Users/marce/Desktop/polyvore_outfits/images/213955588.jpg', 'C:/Users/marce/Desktop/polyvore_outfits/images/214397535.jpg', 'C:/Users/marce/Desktop/polyvore_outfits/images/24339932.jpg', 'C:/Users/marce/Desktop/polyvore_outfits/images/34784641.jpg', 'C:/Users/marce/Desktop/polyvore_outfits/images/38737634.jpg', 'C:/Users/marce/Desktop/polyvore_outfits/images/38790394.jpg', 'C:/Users/marce/Desktop/polyvore_outfits/images/39023745.jpg', 'C:/Users/marce/Desktop/polyvore_outfits/images/39144735.jpg', 'C:/Users/marce/Desktop/polyvore_outfits/images/44432219.jpg', 'C:/Users/marce/Desktop/polyvore_outfits/images/47190043.jpg', 'C:/Users/marce/Desktop/polyvore_outfits/images/47847968.jpg', 'C:/Users/marce/Desktop/polyvore_outfits/images/48139009.jpg', 'C:/Users/marce/Desktop/polyvore_outfits/images/48308335.jpg', 'C:/Users/marce/Desktop/polyvore_outfits/images/52144504.jpg', 'C:/Users/marce/Desktop/polyvore_outfits/images/57048500.jpg', 'C:/Users/marce/Desktop/polyvore_outfits/images/57139366.jpg', 'C:/Users/marce/Desktop/polyvore_outfits/images/59111155.jpg', 'C:/Users/marce/Desktop/polyvore_outfits/images/61406196.jpg', 'C:/Users/marce/Desktop/polyvore_outfits/images/61418819.jpg', 'C:/Users/marce/Desktop/polyvore_outfits/images/61474421.jpg', 'C:/Users/marce/Desktop/polyvore_outfits/images/61756906.jpg', 'C:/Users/marce/Desktop/polyvore_outfits/images/62481387.jpg', 'C:/Users/marce/Desktop/polyvore_outfits/images/64434172.jpg', 'C:/Users/marce/Desktop/polyvore_outfits/images/64723406.jpg', 'C:/Users/marce/Desktop/polyvore_outfits/images/66910488.jpg', 'C:/Users/marce/Desktop/polyvore_outfits/images/67024970.jpg', 'C:/Users/marce/Desktop/polyvore_outfits/images/686389.jpg', 'C:/Users/marce/Desktop/polyvore_outfits/images/71031008.jpg', 'C:/Users/marce/Desktop/polyvore_outfits/images/74440568.jpg', 'C:/Users/marce/Desktop/polyvore_outfits/images/76148493.jpg', 'C:/Users/marce/Desktop/polyvore_outfits/images/77057364.jpg', 'C:/Users/marce/Desktop/polyvore_outfits/images/81146933.jpg', 'C:/Users/marce/Desktop/polyvore_outfits/images/83513484.jpg', 'C:/Users/marce/Desktop/polyvore_outfits/images/85750430.jpg', 'C:/Users/marce/Desktop/polyvore_outfits/images/89694413.jpg', 'C:/Users/marce/Desktop/polyvore_outfits/images/93650007.jpg', 'C:/Users/marce/Desktop/polyvore_outfits/images/94676369.jpg', 'C:/Users/marce/Desktop/polyvore_outfits/images/97873234.jpg', 'C:/Users/marce/Desktop/polyvore_outfits/images/98764521.jpg']\n",
      "<_BatchDataset element_spec=(TensorSpec(shape=(None, 300, 300, 3), dtype=tf.uint8, name=None), TensorSpec(shape=(None,), dtype=tf.int32, name=None))>\n"
     ]
    }
   ],
   "source": [
    "import tensorflow as tf\n",
    "import json\n",
    "import os\n",
    "\n",
    "# Definisci il percorso della cartella contenente le immagini\n",
    "image_directory = 'C:/Users/marce/Desktop/polyvore_outfits/images/'\n",
    "\n",
    "# Carica il file JSON delle etichette\n",
    "json_file_path = 'Dataset/valid_set_acc.json'\n",
    "\n",
    "with open(json_file_path, 'r') as json_file:\n",
    "    label_data = json.load(json_file)\n",
    "\n",
    "# Crea un dizionario per mappare item_id alle etichette semantiche\n",
    "item_id_to_label = {}\n",
    "for entry in label_data:\n",
    "    for item in entry['items']:\n",
    "        item_id = item['item_id']\n",
    "        category_id = item['category_id']\n",
    "        item_id_to_label[item_id] = category_id\n",
    "\n",
    "# Creare una lista di tuple (nome dell'immagine, etichetta semantica)\n",
    "image_label_pairs = []\n",
    "for root, _, files in os.walk(image_directory):\n",
    "    for file in files:\n",
    "        # Estrai l'item_id dal nome dell'immagine\n",
    "        item_id = os.path.splitext(file)[0]\n",
    "        category_id = item_id_to_label.get(item_id, None)\n",
    "        if category_id == \"belt\":\n",
    "            image_path = os.path.join(root, file)\n",
    "            image_label_pairs.append((image_path, category_id))\n",
    "\n",
    "# Creare un dataset TensorFlow dalla lista di coppie immagine-etichetta\n",
    "image_paths, labels = zip(*image_label_pairs)\n",
    "image_paths = list(image_paths)\n",
    "print(image_paths)\n",
    "labels = list(labels)\n",
    "\n",
    "# Converte le etichette semantiche in interi (necessario per poi poter effettuare i merge all'interno del generatore e del discriminatore)\n",
    "label_mapping = {\"belt\": 0}\n",
    "def label_to_integer(label):\n",
    "    return label_mapping[label]\n",
    "\n",
    "labels = [label_to_integer(label) for label in labels]\n",
    "\n",
    "# Creare un dataset TensorFlow\n",
    "batch_size = 32\n",
    "image_size = (300, 300)\n",
    "\n",
    "def load_and_preprocess_image(image_path, label):\n",
    "    # Carica e preelabora l'immagine\n",
    "    image = tf.io.read_file(image_path)\n",
    "    image = tf.image.decode_jpeg(image, channels=3)\n",
    "    image = tf.image.resize(image, image_size)\n",
    "    image = tf.cast(image, tf.uint8)\n",
    "    return image, label\n",
    "\n",
    "# Creare un dataset da coppie immagine-etichetta\n",
    "dataset_belt_val = tf.data.Dataset.from_tensor_slices((image_paths, labels))\n",
    "dataset_belt_val = dataset_belt_val.map(load_and_preprocess_image)\n",
    "\n",
    "# Per aggiungere il batch size alla dimensione del tensore per il dataset\n",
    "dataset_belt_val = dataset_belt_val.batch(batch_size)\n",
    "\n",
    "# Stampa il dataset\n",
    "print(dataset_belt_val)\n"
   ],
   "metadata": {
    "collapsed": false,
    "ExecuteTime": {
     "end_time": "2023-09-29T07:57:49.595269700Z",
     "start_time": "2023-09-29T07:57:48.175268200Z"
    }
   },
   "id": "5b04c8b08b429662"
  },
  {
   "cell_type": "markdown",
   "source": [
    "Lavoriamo sul dataset di Test nella stessa maniera con cui abbbiamo lavorato con training e validation"
   ],
   "metadata": {
    "collapsed": false
   },
   "id": "24618269533857e2"
  },
  {
   "cell_type": "code",
   "execution_count": 1,
   "outputs": [
    {
     "name": "stdout",
     "output_type": "stream",
     "text": [
      "Sostituzione completata.\n"
     ]
    }
   ],
   "source": [
    "import tensorflow as tf\n",
    "import json\n",
    "import os\n",
    "\n",
    "# Definisci il percorso della cartella contenente le immagini\n",
    "image_directory = 'C:/Users/marce/Desktop/polyvore_outfits/images/'\n",
    "\n",
    "# Carica il file JSON delle etichette\n",
    "json_file_path = 'Dataset/test_set_acc.json'\n",
    "\n",
    "with open(json_file_path, 'r') as json_file:\n",
    "    label_data = json.load(json_file)\n",
    "\n",
    "# Crea un dizionario per mappare item_id alle etichette semantiche\n",
    "item_id_to_label = {}\n",
    "for entry in label_data:\n",
    "    for item in entry['items']:\n",
    "        item_id = item['item_id']\n",
    "        category_id = item['category_id']\n",
    "        item_id_to_label[item_id] = category_id\n",
    "\n",
    "# Creare una lista di tuple (nome dell'immagine, etichetta semantica)\n",
    "image_label_pairs = []\n",
    "for root, _, files in os.walk(image_directory):\n",
    "    for file in files:\n",
    "        # Estrai l'item_id dal nome dell'immagine\n",
    "        item_id = os.path.splitext(file)[0]\n",
    "        category_id = item_id_to_label.get(item_id, None)\n",
    "        if category_id == \"belt\":\n",
    "            image_path = os.path.join(root, file)\n",
    "            image_label_pairs.append((image_path, category_id))\n",
    "\n",
    "# Creare un dataset TensorFlow dalla lista di coppie immagine-etichetta\n",
    "image_paths, labels = zip(*image_label_pairs)\n",
    "image_paths = list(image_paths)\n",
    "print(image_paths)\n",
    "labels = list(labels)\n",
    "\n",
    "# Converte le etichette semantiche in interi (non è necessario se l'etichetta è già \"gloves\")\n",
    "label_mapping = {\"belt\": 0}\n",
    "def label_to_integer(label):\n",
    "    return label_mapping[label]\n",
    "\n",
    "labels = [label_to_integer(label) for label in labels]\n",
    "\n",
    "# Creare un dataset TensorFlow\n",
    "batch_size = 32\n",
    "image_size = (300, 300)\n",
    "\n",
    "def load_and_preprocess_image(image_path, label):\n",
    "    # Carica e preelabora l'immagine\n",
    "    image = tf.io.read_file(image_path)\n",
    "    image = tf.image.decode_jpeg(image, channels=3)\n",
    "    image = tf.image.resize(image, image_size)\n",
    "    image = tf.cast(image, tf.uint8)\n",
    "    return image, label\n",
    "\n",
    "# Creare un dataset da coppie immagine-etichetta\n",
    "dataset_belt_test = tf.data.Dataset.from_tensor_slices((image_paths, labels))\n",
    "dataset_belt_test = dataset_belt_test.map(load_and_preprocess_image)\n",
    "\n",
    "# Per aggiungere il batch size alla dimensione del tensore per il dataset\n",
    "dataset_belt_test = dataset_belt_val.batch(batch_size)\n",
    "\n",
    "# Stampa il dataset\n",
    "print(dataset_belt_test)\n"
   ],
   "metadata": {
    "collapsed": false,
    "ExecuteTime": {
     "end_time": "2023-09-29T07:52:16.573711300Z",
     "start_time": "2023-09-29T07:52:14.719713700Z"
    }
   },
   "id": "953062b2d6478eca"
  },
  {
   "cell_type": "markdown",
   "source": [],
   "metadata": {
    "collapsed": false
   },
   "id": "f08ec9bcb50bf6eb"
  },
  {
   "cell_type": "markdown",
   "source": [
    "Carichiamo l'embedding (ricordarsi di eseguire la funzione per la creazione dell'embedding in Preprocess_Data_and_Embedding)"
   ],
   "metadata": {
    "collapsed": false
   },
   "id": "d67bc15d901f1690"
  },
  {
   "cell_type": "code",
   "execution_count": 7,
   "outputs": [
    {
     "name": "stdout",
     "output_type": "stream",
     "text": [
      "[[-0.6698174   0.36767587  2.0241685   0.59659916  0.6344788   0.02297916\n",
      "   0.6140562   0.32278645  0.2504632  -0.6127753  -0.4668099   0.05412364\n",
      "  -1.2268093  -0.23452778  0.31057438 -0.07198033  0.21593237 -0.55607826\n",
      "   0.10858711  1.7606628  -0.7215787  -0.07988317 -1.3390868  -0.33724254\n",
      "  -0.10062222  0.5519891   2.221586   -0.11137453  0.62013286 -0.7614147\n",
      "   0.44494778 -0.07807393 -1.0250447   0.5582578  -0.80462873  0.57461697\n",
      "   0.08267806 -1.3114728  -0.7518677   0.22460711  1.8143798   0.02875041\n",
      "  -0.16374594  0.9635703  -0.9323846   0.63075733 -0.4927859   2.5482798\n",
      "   0.25572893 -1.1241668  -0.27286592  0.8137388  -1.4529666   0.12695476\n",
      "  -1.9686215   0.15296736 -1.482131    0.07811125  1.1749024  -0.54084545\n",
      "  -0.58014643 -0.4272632  -0.85797626  0.11588039 -0.40775523  1.0385048\n",
      "  -0.08945616  0.14564554  0.07501117 -0.48413223 -0.30717677 -0.19494504\n",
      "   0.30911177 -0.57293016 -0.6120647   0.43311933 -0.5307508  -0.734938\n",
      "  -0.8050627  -1.5378573  -0.47905245 -0.9906199  -0.05237616 -0.7126654\n",
      "   0.6725428   0.9802146  -1.2689995  -0.5596127   0.24834897 -0.7211162\n",
      "  -0.80236095 -0.28756604  1.2398614   0.39326572 -1.06237     1.2258954\n",
      "   0.5506661   0.191221   -2.6231465   0.42328066  0.58008176 -0.96136343\n",
      "   0.50810754 -1.2518668   1.0318357  -1.1004219   0.1412485  -0.79358864\n",
      "   0.85427994  1.317386    1.1610643   0.5954114   2.293097   -0.5467718\n",
      "  -1.1352992   0.38247126 -1.1312469  -1.2681321   1.6919221   0.5658218\n",
      "   0.36378175 -0.47135553 -0.43389356  0.5758003   0.5486006   0.7501549\n",
      "   0.5205463  -0.89677703]]\n"
     ]
    }
   ],
   "source": [
    "import numpy as np\n",
    "\n",
    "# Carica l'embedding dal file\n",
    "embedding = np.load('embedding.npy')\n",
    "\n",
    "# Ora puoi utilizzare l'embedding come desideri nel tuo notebook\n",
    "print(embedding)"
   ],
   "metadata": {
    "collapsed": false,
    "ExecuteTime": {
     "end_time": "2023-09-29T07:54:55.392302500Z",
     "start_time": "2023-09-29T07:54:55.232940200Z"
    }
   },
   "id": "7127cc256820f766"
  },
  {
   "cell_type": "markdown",
   "source": [
    "Importo i vari package utili come Tensorflow, numpy, ecc.."
   ],
   "metadata": {
    "collapsed": false
   },
   "id": "9b8a86e7c49ec932"
  },
  {
   "cell_type": "markdown",
   "source": [],
   "metadata": {
    "collapsed": false
   },
   "id": "a3343efcc95ad1d0"
  },
  {
   "cell_type": "code",
   "execution_count": 8,
   "outputs": [],
   "source": [
    "import tensorflow as tf\n",
    "from tensorflow.keras import layers\n",
    "from tensorflow.keras import preprocessing\n",
    "from IPython import display\n",
    "import matplotlib.pyplot as plt\n",
    "import numpy as np\n",
    "import time\n",
    "%matplotlib inline\n",
    "\n",
    "from matplotlib import gridspec"
   ],
   "metadata": {
    "collapsed": false,
    "ExecuteTime": {
     "end_time": "2023-09-29T07:55:05.692223200Z",
     "start_time": "2023-09-29T07:54:59.686976Z"
    }
   },
   "id": "e22aa731ee1f6db6"
  },
  {
   "cell_type": "markdown",
   "source": [
    "Definisco la funzione di normalizzazione del dataset di training"
   ],
   "metadata": {
    "collapsed": false
   },
   "id": "37b7c759f7c01c90"
  },
  {
   "cell_type": "code",
   "execution_count": 9,
   "outputs": [],
   "source": [
    "import tensorflow as tf\n",
    "\n",
    "def normalization(tensor):\n",
    "    tensor = tf.image.resize(tensor, (128, 128))\n",
    "    tensor = tf.subtract(tf.divide(tensor, 127.5), 1)\n",
    "    #tensor = tf.expand_dims(tensor, axis=0)  # Forza sempre una dimensione di batch di 1\n",
    "    return tensor"
   ],
   "metadata": {
    "collapsed": false,
    "ExecuteTime": {
     "end_time": "2023-09-29T07:55:05.719218600Z",
     "start_time": "2023-09-29T07:55:05.698742Z"
    }
   },
   "id": "c0dd49f267b55cdb"
  },
  {
   "cell_type": "code",
   "execution_count": 15,
   "outputs": [
    {
     "name": "stdout",
     "output_type": "stream",
     "text": [
      "(32, 128, 128, 3)\n",
      "(32,)\n"
     ]
    }
   ],
   "source": [
    "for image, label  in dataset_belt.take(1):\n",
    "    img = tf.cast(image, tf.float32)\n",
    "    imgs = normalization(img)\n",
    "    print(imgs.shape)\n",
    "    print(label.shape)"
   ],
   "metadata": {
    "collapsed": false,
    "ExecuteTime": {
     "end_time": "2023-09-29T07:58:38.746821500Z",
     "start_time": "2023-09-29T07:58:38.567654300Z"
    }
   },
   "id": "4cd65c1942802a9"
  },
  {
   "cell_type": "markdown",
   "source": [
    "Definisco la dimensione latente, hyperparameters importante per la CGAN"
   ],
   "metadata": {
    "collapsed": false
   },
   "id": "2a48bc450b2c056d"
  },
  {
   "cell_type": "code",
   "execution_count": 16,
   "outputs": [],
   "source": [
    "#BATCH_SIZE = 128\n",
    "latent_dim = 100"
   ],
   "metadata": {
    "collapsed": false,
    "ExecuteTime": {
     "end_time": "2023-09-29T07:58:43.404385200Z",
     "start_time": "2023-09-29T07:58:43.372469800Z"
    }
   },
   "id": "fbba019c742b1e7e"
  },
  {
   "cell_type": "code",
   "execution_count": 17,
   "outputs": [
    {
     "name": "stdout",
     "output_type": "stream",
     "text": [
      "KerasTensor(type_spec=TensorSpec(shape=(None, 128), dtype=tf.float32, name='input_embedding'), name='input_embedding', description=\"created by layer 'input_embedding'\")\n",
      "KerasTensor(type_spec=TensorSpec(shape=(None, 100), dtype=tf.float32, name='input_1'), name='input_1', description=\"created by layer 'input_1'\")\n"
     ]
    }
   ],
   "source": [
    "# Etichetta da passare al generatore --> embedding maglietta\n",
    "con_label = layers.Input(shape=128, name='input_embedding')\n",
    "print(con_label)\n",
    "\n",
    "# latent vector input\n",
    "latent_vector = layers.Input(shape=latent_dim)\n",
    "print(latent_vector)\n"
   ],
   "metadata": {
    "collapsed": false,
    "ExecuteTime": {
     "end_time": "2023-09-29T07:58:44.117773100Z",
     "start_time": "2023-09-29T07:58:44.087586900Z"
    }
   },
   "id": "9693ae227a08b2ed"
  },
  {
   "cell_type": "markdown",
   "source": [
    "Lavoro sulla forma dei due input per poter concatenarli tra di loro nel generatore"
   ],
   "metadata": {
    "collapsed": false
   },
   "id": "24578b99a8812f8b"
  },
  {
   "cell_type": "code",
   "execution_count": 18,
   "outputs": [],
   "source": [
    "from tensorflow.keras import layers\n",
    "import numpy as np\n",
    "\n",
    "def label_conditioned_generator():\n",
    "    nodes = 128 * 4 * 4 \n",
    "    label_dense = layers.Dense(nodes)(con_label)\n",
    "    # reshape to additional channel\n",
    "    label_reshape_layer = layers.Reshape((4, 4, 128))(label_dense)\n",
    "    return label_reshape_layer\n",
    "\n",
    "def latent_input(latent_dim=100):\n",
    "    # image generator input\n",
    "    nodes = 512 * 4 * 4\n",
    "    latent_dense = layers.Dense(nodes)(latent_vector)\n",
    "    latent_dense = layers.ReLU()(latent_dense)\n",
    "    latent_reshape = layers.Reshape((4, 4, 512))(latent_dense)\n",
    "    return latent_reshape\n"
   ],
   "metadata": {
    "collapsed": false,
    "ExecuteTime": {
     "end_time": "2023-09-29T07:58:47.725727300Z",
     "start_time": "2023-09-29T07:58:47.694455900Z"
    }
   },
   "id": "71bb467d8554a054"
  },
  {
   "cell_type": "code",
   "execution_count": 19,
   "outputs": [
    {
     "name": "stdout",
     "output_type": "stream",
     "text": [
      "Model: \"model\"\n",
      "__________________________________________________________________________________________________\n",
      " Layer (type)                Output Shape                 Param #   Connected to                  \n",
      "==================================================================================================\n",
      " input_1 (InputLayer)        [(None, 100)]                0         []                            \n",
      "                                                                                                  \n",
      " dense_1 (Dense)             (None, 8192)                 827392    ['input_1[0][0]']             \n",
      "                                                                                                  \n",
      " input_embedding (InputLaye  [(None, 128)]                0         []                            \n",
      " r)                                                                                               \n",
      "                                                                                                  \n",
      " re_lu (ReLU)                (None, 8192)                 0         ['dense_1[0][0]']             \n",
      "                                                                                                  \n",
      " dense (Dense)               (None, 2048)                 264192    ['input_embedding[0][0]']     \n",
      "                                                                                                  \n",
      " reshape_1 (Reshape)         (None, 4, 4, 512)            0         ['re_lu[0][0]']               \n",
      "                                                                                                  \n",
      " reshape (Reshape)           (None, 4, 4, 128)            0         ['dense[0][0]']               \n",
      "                                                                                                  \n",
      " concatenate (Concatenate)   (None, 4, 4, 640)            0         ['reshape_1[0][0]',           \n",
      "                                                                     'reshape[0][0]']             \n",
      "                                                                                                  \n",
      " conv_transpose_1 (Conv2DTr  (None, 8, 8, 512)            5242880   ['concatenate[0][0]']         \n",
      " anspose)                                                                                         \n",
      "                                                                                                  \n",
      " bn_1 (BatchNormalization)   (None, 8, 8, 512)            2048      ['conv_transpose_1[0][0]']    \n",
      "                                                                                                  \n",
      " relu_1 (ReLU)               (None, 8, 8, 512)            0         ['bn_1[0][0]']                \n",
      "                                                                                                  \n",
      " conv_transpose_2 (Conv2DTr  (None, 16, 16, 256)          2097152   ['relu_1[0][0]']              \n",
      " anspose)                                                                                         \n",
      "                                                                                                  \n",
      " bn_2 (BatchNormalization)   (None, 16, 16, 256)          1024      ['conv_transpose_2[0][0]']    \n",
      "                                                                                                  \n",
      " relu_2 (ReLU)               (None, 16, 16, 256)          0         ['bn_2[0][0]']                \n",
      "                                                                                                  \n",
      " conv_transpose_3 (Conv2DTr  (None, 32, 32, 128)          524288    ['relu_2[0][0]']              \n",
      " anspose)                                                                                         \n",
      "                                                                                                  \n",
      " bn_3 (BatchNormalization)   (None, 32, 32, 128)          512       ['conv_transpose_3[0][0]']    \n",
      "                                                                                                  \n",
      " relu_3 (ReLU)               (None, 32, 32, 128)          0         ['bn_3[0][0]']                \n",
      "                                                                                                  \n",
      " conv_transpose_4 (Conv2DTr  (None, 64, 64, 64)           131072    ['relu_3[0][0]']              \n",
      " anspose)                                                                                         \n",
      "                                                                                                  \n",
      " bn_4 (BatchNormalization)   (None, 64, 64, 64)           256       ['conv_transpose_4[0][0]']    \n",
      "                                                                                                  \n",
      " relu_4 (ReLU)               (None, 64, 64, 64)           0         ['bn_4[0][0]']                \n",
      "                                                                                                  \n",
      " conv_transpose_6 (Conv2DTr  (None, 128, 128, 3)          3072      ['relu_4[0][0]']              \n",
      " anspose)                                                                                         \n",
      "                                                                                                  \n",
      "==================================================================================================\n",
      "Total params: 9093888 (34.69 MB)\n",
      "Trainable params: 9091968 (34.68 MB)\n",
      "Non-trainable params: 1920 (7.50 KB)\n",
      "__________________________________________________________________________________________________\n"
     ]
    }
   ],
   "source": [
    "# Definisco il modello del generatore CGAN\n",
    "def define_generator():\n",
    "    label_output = label_conditioned_generator()\n",
    "    #label_output = layers.Input(shape=(embedding_resnet.shape))\n",
    "    latent_vector_output= latent_input()\n",
    "    # merge label_conditioned_generator and latent_input output\n",
    "    merge = layers.Concatenate()([latent_vector_output, label_output])\n",
    "\n",
    "    x = layers.Conv2DTranspose(64 * 8, kernel_size=4, strides= 2, padding='same', kernel_initializer=tf.keras.initializers.RandomNormal(\n",
    "    mean=0.0, stddev=0.02), use_bias=False, name='conv_transpose_1')(merge)\n",
    "    x = layers.BatchNormalization(momentum=0.1,  epsilon=0.8, center=1.0, scale=0.02, name='bn_1')(x)\n",
    "    x = layers.ReLU(name='relu_1')(x)\n",
    "\n",
    "    x = layers.Conv2DTranspose(64 * 4, kernel_size=4, strides= 2, padding='same', kernel_initializer=tf.keras.initializers.RandomNormal(\n",
    "    mean=0.0, stddev=0.02), use_bias=False, name='conv_transpose_2')(x)\n",
    "    x = layers.BatchNormalization(momentum=0.1,  epsilon=0.8, center=1.0, scale=0.02, name='bn_2')(x)\n",
    "    x = layers.ReLU(name='relu_2')(x)\n",
    "\n",
    "    x = layers.Conv2DTranspose(64 * 2, 4, 2, padding='same', kernel_initializer=tf.keras.initializers.RandomNormal(\n",
    "    mean=0.0, stddev=0.02), use_bias=False, name='conv_transpose_3')(x)\n",
    "    x = layers.BatchNormalization(momentum=0.1,  epsilon=0.8,  center=1.0, scale=0.02, name='bn_3')(x)\n",
    "    x = layers.ReLU(name='relu_3')(x)\n",
    "\n",
    "\n",
    "    x = layers.Conv2DTranspose(64 * 1, 4, 2, padding='same', kernel_initializer=tf.keras.initializers.RandomNormal(\n",
    "    mean=0.0, stddev=0.02), use_bias=False, name='conv_transpose_4')(x)\n",
    "    x = layers.BatchNormalization(momentum=0.1,  epsilon=0.8,  center=1.0, scale=0.02, name='bn_4')(x)\n",
    "    x = layers.ReLU(name='relu_4')(x)\n",
    "\n",
    "\n",
    "    out_layer = layers.Conv2DTranspose(3, 4, 2,padding='same', kernel_initializer=tf.keras.initializers.RandomNormal(\n",
    "    mean=0.0, stddev=0.02), use_bias=False, activation='tanh', name='conv_transpose_6')(x)\n",
    "\n",
    "   # define model\n",
    "    model = tf.keras.Model([latent_vector, con_label], out_layer)\n",
    "    return model\n",
    "\n",
    "conditional_gen = define_generator()\n",
    "conditional_gen.summary()"
   ],
   "metadata": {
    "collapsed": false,
    "ExecuteTime": {
     "end_time": "2023-09-29T07:58:49.157533300Z",
     "start_time": "2023-09-29T07:58:48.727848100Z"
    }
   },
   "id": "569257f19dbd2599"
  },
  {
   "cell_type": "markdown",
   "source": [
    "Definisco l'input del discriminatore: etichetta e immagine del generatore in input"
   ],
   "metadata": {
    "collapsed": false
   },
   "id": "98be835122141f25"
  },
  {
   "cell_type": "code",
   "execution_count": 20,
   "outputs": [],
   "source": [
    "def label_condition_disc(in_shape=(128,128,3), n_classes=1, embedding_dim=128):\n",
    "    # label input (sarebbe la mia etichetta, cioè bottom,shoes o accesories)\n",
    "    etichetta = layers.Input(shape=(1,), )\n",
    "    label_embedding = layers.Embedding(n_classes, embedding_dim)(etichetta)\n",
    "    # scale up to image dimensions with linear activation\n",
    "    nodes = in_shape[0] * in_shape[1] * in_shape[2]\n",
    "    label_dense = layers.Dense(nodes)(label_embedding)\n",
    "    # reshape to additional channel\n",
    "    label_reshape_layer = layers.Reshape((in_shape[0], in_shape[1], 3))(label_dense)\n",
    "    # image input\n",
    "    return etichetta, label_reshape_layer\n",
    "\n",
    "def image_disc(in_shape=(128,128,3)):\n",
    "    inp_image = layers.Input(shape=in_shape)\n",
    "    return inp_image"
   ],
   "metadata": {
    "collapsed": false,
    "ExecuteTime": {
     "end_time": "2023-09-29T07:58:50.572911600Z",
     "start_time": "2023-09-29T07:58:50.540999300Z"
    }
   },
   "id": "2003e432bf7dd79c"
  },
  {
   "cell_type": "markdown",
   "source": [
    "Definisco la funzione del discriminatore CGAN"
   ],
   "metadata": {
    "collapsed": false
   },
   "id": "39acaff57a8812af"
  },
  {
   "cell_type": "code",
   "execution_count": 21,
   "outputs": [
    {
     "name": "stdout",
     "output_type": "stream",
     "text": [
      "Model: \"model_1\"\n",
      "__________________________________________________________________________________________________\n",
      " Layer (type)                Output Shape                 Param #   Connected to                  \n",
      "==================================================================================================\n",
      " input_2 (InputLayer)        [(None, 1)]                  0         []                            \n",
      "                                                                                                  \n",
      " embedding (Embedding)       (None, 1, 128)               128       ['input_2[0][0]']             \n",
      "                                                                                                  \n",
      " dense_2 (Dense)             (None, 1, 49152)             6340608   ['embedding[0][0]']           \n",
      "                                                                                                  \n",
      " input_3 (InputLayer)        [(None, 128, 128, 3)]        0         []                            \n",
      "                                                                                                  \n",
      " reshape_2 (Reshape)         (None, 128, 128, 3)          0         ['dense_2[0][0]']             \n",
      "                                                                                                  \n",
      " concatenate_1 (Concatenate  (None, 128, 128, 6)          0         ['input_3[0][0]',             \n",
      " )                                                                   'reshape_2[0][0]']           \n",
      "                                                                                                  \n",
      " conv_1 (Conv2D)             (None, 64, 64, 64)           6144      ['concatenate_1[0][0]']       \n",
      "                                                                                                  \n",
      " leaky_relu_1 (LeakyReLU)    (None, 64, 64, 64)           0         ['conv_1[0][0]']              \n",
      "                                                                                                  \n",
      " conv_2 (Conv2D)             (None, 22, 22, 128)          131072    ['leaky_relu_1[0][0]']        \n",
      "                                                                                                  \n",
      " bn_1 (BatchNormalization)   (None, 22, 22, 128)          512       ['conv_2[0][0]']              \n",
      "                                                                                                  \n",
      " leaky_relu_2 (LeakyReLU)    (None, 22, 22, 128)          0         ['bn_1[0][0]']                \n",
      "                                                                                                  \n",
      " conv_3 (Conv2D)             (None, 8, 8, 256)            524288    ['leaky_relu_2[0][0]']        \n",
      "                                                                                                  \n",
      " bn_2 (BatchNormalization)   (None, 8, 8, 256)            1024      ['conv_3[0][0]']              \n",
      "                                                                                                  \n",
      " leaky_relu_3 (LeakyReLU)    (None, 8, 8, 256)            0         ['bn_2[0][0]']                \n",
      "                                                                                                  \n",
      " conv_5 (Conv2D)             (None, 3, 3, 512)            2097152   ['leaky_relu_3[0][0]']        \n",
      "                                                                                                  \n",
      " bn_4 (BatchNormalization)   (None, 3, 3, 512)            2048      ['conv_5[0][0]']              \n",
      "                                                                                                  \n",
      " leaky_relu_5 (LeakyReLU)    (None, 3, 3, 512)            0         ['bn_4[0][0]']                \n",
      "                                                                                                  \n",
      " flatten (Flatten)           (None, 4608)                 0         ['leaky_relu_5[0][0]']        \n",
      "                                                                                                  \n",
      " dropout (Dropout)           (None, 4608)                 0         ['flatten[0][0]']             \n",
      "                                                                                                  \n",
      " dense_3 (Dense)             (None, 1)                    4609      ['dropout[0][0]']             \n",
      "                                                                                                  \n",
      "==================================================================================================\n",
      "Total params: 9107585 (34.74 MB)\n",
      "Trainable params: 9105793 (34.74 MB)\n",
      "Non-trainable params: 1792 (7.00 KB)\n",
      "__________________________________________________________________________________________________\n"
     ]
    }
   ],
   "source": [
    "def define_discriminator():\n",
    "    etichetta, label_condition_output = label_condition_disc()\n",
    "    inp_image_output = image_disc()\n",
    "    # concat label as a channel\n",
    "    merge = layers.Concatenate(axis=-1)([inp_image_output, label_condition_output])\n",
    "\n",
    "    x = layers.Conv2D(64, kernel_size=4, strides= 2, padding='same', kernel_initializer=tf.keras.initializers.RandomNormal(\n",
    "    mean=0.0, stddev=0.02), use_bias=False, name='conv_1')(merge)\n",
    "    x = layers.LeakyReLU(0.2, name='leaky_relu_1')(x)\n",
    "\n",
    "    x = layers.Conv2D(64 * 2, kernel_size=4, strides= 3, padding='same', kernel_initializer=tf.keras.initializers.RandomNormal(\n",
    "    mean=0.0, stddev=0.02), use_bias=False, name='conv_2')(x)\n",
    "    x = layers.BatchNormalization(momentum=0.1,  epsilon=0.8, center=1.0, scale=0.02, name='bn_1')(x)\n",
    "    x = layers.LeakyReLU(0.2, name='leaky_relu_2')(x)\n",
    "\n",
    "    x = layers.Conv2D(64 * 4, 4, 3, padding='same', kernel_initializer=tf.keras.initializers.RandomNormal(\n",
    "    mean=0.0, stddev=0.02), use_bias=False, name='conv_3')(x)\n",
    "    x = layers.BatchNormalization(momentum=0.1,  epsilon=0.8, center=1.0, scale=0.02, name='bn_2')(x)\n",
    "    x = layers.LeakyReLU(0.2, name='leaky_relu_3')(x)\n",
    "\n",
    "    x = layers.Conv2D(64 * 8, 4, 3,padding='same', kernel_initializer=tf.keras.initializers.RandomNormal(\n",
    "    mean=0.0, stddev=0.02), use_bias=False, name='conv_5')(x)\n",
    "    x = layers.BatchNormalization(momentum=0.1,  epsilon=0.8, center=1.0, scale=0.02, name='bn_4')(x)\n",
    "    x = layers.LeakyReLU(0.2, name='leaky_relu_5')(x)\n",
    "\n",
    "\n",
    "    flattened_out = layers.Flatten()(x)\n",
    "    # dropout\n",
    "    dropout = layers.Dropout(0.4)(flattened_out)\n",
    "    # output\n",
    "    dense_out = layers.Dense(1, activation='sigmoid')(dropout)\n",
    "    # define model\n",
    "\n",
    "\n",
    "    # define model\n",
    "    model = tf.keras.Model([inp_image_output, etichetta], dense_out)\n",
    "    return model\n",
    "\n",
    "# Inizializziamo il discriminatore CGAN\n",
    "conditional_discriminator = define_discriminator()\n",
    "\n",
    "# Sommario discriminatore CGAN\n",
    "conditional_discriminator.summary()"
   ],
   "metadata": {
    "collapsed": false,
    "ExecuteTime": {
     "end_time": "2023-09-29T07:58:51.903768700Z",
     "start_time": "2023-09-29T07:58:51.527928900Z"
    }
   },
   "id": "cdf03bdcf2f66ed"
  },
  {
   "cell_type": "markdown",
   "source": [
    "Come loss scelgo la binary croos entropy, molto utilizzata nelle casistiche di classificazione della CGAN"
   ],
   "metadata": {
    "collapsed": false
   },
   "id": "54285c1d37253fdc"
  },
  {
   "cell_type": "code",
   "execution_count": 22,
   "outputs": [],
   "source": [
    "binary_cross_entropy = tf.keras.losses.BinaryCrossentropy()"
   ],
   "metadata": {
    "collapsed": false,
    "ExecuteTime": {
     "end_time": "2023-09-29T07:58:55.101879Z",
     "start_time": "2023-09-29T07:58:55.070331500Z"
    }
   },
   "id": "7c30af9b01bb2c9b"
  },
  {
   "cell_type": "markdown",
   "source": [
    "Definisco la loss del generatore e del discriminatore"
   ],
   "metadata": {
    "collapsed": false
   },
   "id": "be7bebb83b49b3a3"
  },
  {
   "cell_type": "code",
   "execution_count": 23,
   "outputs": [],
   "source": [
    "def generator_loss(label, fake_output):\n",
    "    gen_loss = binary_cross_entropy(label, fake_output)\n",
    "    print('gen loss --> ', gen_loss)\n",
    "    return gen_loss"
   ],
   "metadata": {
    "collapsed": false,
    "ExecuteTime": {
     "end_time": "2023-09-29T07:58:57.353090200Z",
     "start_time": "2023-09-29T07:58:57.321330100Z"
    }
   },
   "id": "1a290fe3272b53d0"
  },
  {
   "cell_type": "code",
   "execution_count": 24,
   "outputs": [],
   "source": [
    "def discriminator_loss(label, output):\n",
    "    disc_loss = binary_cross_entropy(label, output)\n",
    "    print('disc loss --> ', disc_loss)\n",
    "    return disc_loss"
   ],
   "metadata": {
    "collapsed": false,
    "ExecuteTime": {
     "end_time": "2023-09-29T07:58:57.997131600Z",
     "start_time": "2023-09-29T07:58:57.965675400Z"
    }
   },
   "id": "9764aa8710e0673e"
  },
  {
   "cell_type": "markdown",
   "source": [
    "Impostiamo il learning rate e gli ottimizzatori del generatore e del discriminatore, utilizzeremo ADAM"
   ],
   "metadata": {
    "collapsed": false
   },
   "id": "8c0677765212d2de"
  },
  {
   "cell_type": "code",
   "execution_count": 25,
   "outputs": [],
   "source": [
    "larning_rate = 0.0002\n",
    "generator_optimizer = tf.keras.optimizers.Adam(learning_rate = 0.0002, beta_1 = 0.5, beta_2 = 0.999 )\n",
    "discriminator_optimizer = tf.keras.optimizers.Adam(learning_rate = 0.0002, beta_1 = 0.5, beta_2 = 0.999 )\n",
    "\n",
    "# Per il generatore\n",
    "generator_variables = conditional_gen.trainable_variables\n",
    "\n",
    "# Per il discriminatore\n",
    "discriminator_variables = conditional_discriminator.trainable_variables\n"
   ],
   "metadata": {
    "collapsed": false,
    "ExecuteTime": {
     "end_time": "2023-09-29T07:59:00.603048200Z",
     "start_time": "2023-09-29T07:59:00.571481400Z"
    }
   },
   "id": "652f8f78b0831c21"
  },
  {
   "cell_type": "code",
   "execution_count": 26,
   "outputs": [],
   "source": [
    "num_examples_to_generate = 1\n",
    "# Definiamo il seme di generazione del nostro rumore\n",
    "seed = tf.random.normal([num_examples_to_generate, latent_dim])"
   ],
   "metadata": {
    "collapsed": false,
    "ExecuteTime": {
     "end_time": "2023-09-29T07:59:02.131906200Z",
     "start_time": "2023-09-29T07:59:02.100201800Z"
    }
   },
   "id": "4f27f38edc503034"
  },
  {
   "cell_type": "code",
   "execution_count": 59,
   "outputs": [],
   "source": [
    "# Inizializziamo le variabili per tenere traccia delle somme cumulative\n",
    "total_gen_loss = 0.0\n",
    "total_disc_loss2 = 0.0"
   ],
   "metadata": {
    "collapsed": false
   },
   "id": "b4e74644594204e"
  },
  {
   "cell_type": "markdown",
   "source": [
    "Definisco la funzione per il passo di training, quindi tutte le fasi per allenare il modello ad apprendere bene"
   ],
   "metadata": {
    "collapsed": false
   },
   "id": "c8bb2deef2f557e8"
  },
  {
   "cell_type": "code",
   "execution_count": 27,
   "outputs": [],
   "source": [
    "# Il target è l'etichetta reale dell'immagine\n",
    "def train_step(images,target, G_loss_list, D_loss_list):\n",
    "    \n",
    "    # noise vector sampled from normal distribution\n",
    "    # Crea il vettore di 3 dimensioni con valori casuali da una distribuzione normale\n",
    "    #print('target:',target.shape[0])\n",
    "    noise = tf.random.normal([target.shape[0], latent_dim])\n",
    "    # Train Discriminator with real labels\n",
    "    with tf.GradientTape() as disc_tape1:\n",
    "        # Ottieni la dimensione effettiva del vettore target\n",
    "        dimensione_target = tf.shape(target)[0]\n",
    "        # Modifico la dimensione del batch size dell'embedding in base alla dimensione attuale del batch_size\n",
    "        new_embedding = tf.tile(embedding, [dimensione_target, 1])\n",
    "        # Genero l'immagine fake col gen passando il vettore di rumore e l'embedding dell'immagine\n",
    "        generated_image = conditional_gen([noise,new_embedding], training=True)\n",
    "\n",
    "        real_output = conditional_discriminator([images,target], training=True)\n",
    "        real_targets = tf.ones_like(real_output)\n",
    "        disc_loss1 = discriminator_loss(real_targets, real_output)\n",
    "\n",
    "    # Calcolo del gradiente per il discriminatore per l'etichette reali \n",
    "    gradients_of_disc1 = disc_tape1.gradient(disc_loss1, conditional_discriminator.trainable_variables)\n",
    "\n",
    "    # Ottimizzazione dei parametri del discriminatore per l'etichette reali \n",
    "    discriminator_optimizer.apply_gradients(zip(gradients_of_disc1,\\\n",
    "    conditional_discriminator.trainable_variables))\n",
    "\n",
    "    # Training del discriminatore con l'etichette false\n",
    "    with tf.GradientTape() as disc_tape2:\n",
    "        #print('fake output discriminator')\n",
    "        fake_output = conditional_discriminator([generated_image,target], training=True)\n",
    "        fake_targets = tf.zeros_like(fake_output)\n",
    "        disc_loss2 = discriminator_loss(fake_targets, fake_output)\n",
    "        \n",
    "    # Calcolo del gradiente per il discriminatore per l'etichette reali\n",
    "    gradients_of_disc2 = disc_tape2.gradient(disc_loss2, conditional_discriminator.trainable_variables)\n",
    "\n",
    "    # Ottimizzazione dei parametri del discriminatore per l'etichette false\n",
    "    discriminator_optimizer.apply_gradients(zip(gradients_of_disc2,\\\n",
    "    conditional_discriminator.trainable_variables))\n",
    "\n",
    "    # Fase di Train del Generatore con l'etichette reali\n",
    "    with tf.GradientTape() as gen_tape:\n",
    "        generated_image = conditional_gen([noise,new_embedding], training=True)\n",
    "        fake_output = conditional_discriminator([generated_image,target], training=True)\n",
    "        real_targets = tf.ones_like(fake_output)\n",
    "        gen_loss = generator_loss(real_targets, fake_output)\n",
    "\n",
    "    # Calcolo del gradiente per il generatore per l'etichette reali\n",
    "    gradients_of_gen = gen_tape.gradient(gen_loss, conditional_gen.trainable_variables)\n",
    "\n",
    "    # Ottimizzazione dei parametri del generatore per l'etichette reali\n",
    "    generator_optimizer.apply_gradients(zip(gradients_of_gen,\\\n",
    "    conditional_gen.trainable_variables))\n",
    "    \n",
    "    G_loss_list.append(gen_loss)\n",
    "    D_loss_list.append(disc_loss2)\n",
    "    \n",
    "    # Accumiamo le losses per ogni step\n",
    "    global total_gen_loss\n",
    "    global total_disc_loss2\n",
    "    total_gen_loss += gen_loss\n",
    "    total_disc_loss2 += disc_loss2"
   ],
   "metadata": {
    "collapsed": false,
    "ExecuteTime": {
     "end_time": "2023-09-29T07:59:03.972489800Z",
     "start_time": "2023-09-29T07:59:03.941237200Z"
    }
   },
   "id": "852a9b2631d08259"
  },
  {
   "cell_type": "markdown",
   "source": [
    "Definiamo le funzione per il calcolo del FID e Inception Score"
   ],
   "metadata": {
    "collapsed": false
   },
   "id": "422697cbb6d1dab9"
  },
  {
   "cell_type": "code",
   "execution_count": 28,
   "outputs": [
    {
     "name": "stdout",
     "output_type": "stream",
     "text": [
      "Requirement already satisfied: tensorflow-probability in c:\\users\\marce\\appdata\\local\\programs\\python\\python310\\lib\\site-packages (0.21.0)\n",
      "Requirement already satisfied: dm-tree in c:\\users\\marce\\appdata\\local\\programs\\python\\python310\\lib\\site-packages (from tensorflow-probability) (0.1.8)\n",
      "Requirement already satisfied: six>=1.10.0 in c:\\users\\marce\\appdata\\local\\programs\\python\\python310\\lib\\site-packages (from tensorflow-probability) (1.16.0)\n",
      "Requirement already satisfied: typing-extensions<4.6.0 in c:\\users\\marce\\appdata\\local\\programs\\python\\python310\\lib\\site-packages (from tensorflow-probability) (4.5.0)\n",
      "Requirement already satisfied: decorator in c:\\users\\marce\\appdata\\local\\programs\\python\\python310\\lib\\site-packages (from tensorflow-probability) (5.1.1)\n",
      "Requirement already satisfied: cloudpickle>=1.3 in c:\\users\\marce\\appdata\\local\\programs\\python\\python310\\lib\\site-packages (from tensorflow-probability) (2.2.1)\n",
      "Requirement already satisfied: numpy>=1.13.3 in c:\\users\\marce\\appdata\\local\\programs\\python\\python310\\lib\\site-packages (from tensorflow-probability) (1.23.4)\n",
      "Requirement already satisfied: absl-py in c:\\users\\marce\\appdata\\local\\programs\\python\\python310\\lib\\site-packages (from tensorflow-probability) (1.4.0)\n",
      "Requirement already satisfied: gast>=0.3.2 in c:\\users\\marce\\appdata\\local\\programs\\python\\python310\\lib\\site-packages (from tensorflow-probability) (0.4.0)\n"
     ]
    },
    {
     "name": "stderr",
     "output_type": "stream",
     "text": [
      "WARNING: You are using pip version 22.0.4; however, version 23.2.1 is available.\n",
      "You should consider upgrading via the 'C:\\Users\\marce\\AppData\\Local\\Programs\\Python\\Python310\\python.exe -m pip install --upgrade pip' command.\n"
     ]
    }
   ],
   "source": [
    "from keras.src.utils import img_to_array, load_img\n",
    "!pip install tensorflow-probability\n",
    "\n",
    "# Importa librerie e modelli necessari\n",
    "import tensorflow as tf\n",
    "import tensorflow_probability as tfp\n",
    "from sklearn.metrics import mutual_info_score\n",
    "from scipy.linalg import sqrtm\n",
    "from tensorflow.keras.applications import InceptionV3\n",
    "from tensorflow.keras.models import Model\n",
    "import numpy as np\n",
    "\n",
    "from tensorflow.keras.applications.inception_v3 import preprocess_input\n",
    "from tensorflow.keras.applications.inception_v3 import InceptionV3\n",
    "from tensorflow.keras.models import Model\n",
    "\n",
    "# Importazioni delle librerie e dei modelli necessari\n",
    "import tensorflow as tf\n",
    "from tensorflow.keras.applications import InceptionV3\n",
    "from tensorflow.keras.models import Model\n",
    "\n",
    "# Funzione per estrarre le features da un set di immagini utilizzando il modello InceptionV3\n",
    "    \n",
    "def inception_features(images):\n",
    "    # Carica il modello InceptionV3 preaddestrato\n",
    "    base_model = InceptionV3(weights='imagenet', input_shape=(299, 299, 3))\n",
    "    model = Model(inputs=base_model.input, outputs=base_model.get_layer('avg_pool').output)\n",
    "\n",
    "    # Ingrandisci e pre-elabora le immagini\n",
    "    img = tf.image.resize(images, (299, 299))\n",
    "    preprocessed_images = preprocess_input(img)\n",
    "\n",
    "    # Utilizza il modello InceptionV3 per estrarre le features dalle immagini\n",
    "    features = model.predict(preprocessed_images)\n",
    "\n",
    "    return features\n",
    "\n",
    "\n",
    "# Funzione per calcolare il FID\n",
    "# Funzione per calcolare il FID tra due insiemi di immagini\n",
    "def calculate_fid(real_images, generated_images):\n",
    "    # Calcola le statistiche delle feature dalle immagini reali e generate\n",
    "    real_features = inception_features(real_images)\n",
    "    generated_features = inception_features(generated_images)\n",
    "\n",
    "    # Calcola la media e la covarianza delle feature delle immagini reali e generate\n",
    "    mu_real, sigma_real = tf.math.reduce_mean(real_features, axis=0), tfp.stats.covariance(real_features)\n",
    "    mu_generated, sigma_generated = tf.math.reduce_mean(generated_features, axis=0), tfp.stats.covariance(generated_features)\n",
    "\n",
    "    # Calcola la traccia della radice quadrata delle matrici di covarianza\n",
    "    sqrt_term = sqrtm(sigma_real @ sigma_generated)\n",
    "\n",
    "    # Calcola la differenza tra le medie delle feature\n",
    "    diff = mu_real - mu_generated\n",
    "\n",
    "    # Calcola la distanza di Fréchet\n",
    "    # Ho modificato la normalizzazione da \"frobenius\" che è una norma non supportata da tensorflow in \"euclidean\"\n",
    "    fid = tf.math.real(tf.linalg.trace(sigma_real + sigma_generated - 2.0 * sqrt_term)) + tf.norm(diff, ord='euclidean')**2\n",
    "    return fid\n",
    "\n",
    "\n",
    "# Funzione per calcolare l'Inception Score\n",
    "def calculate_inception_score(generated_images):\n",
    "    # Carica il modello InceptionV3 preaddestrato senza gli strati finali\n",
    "    inception_model = InceptionV3(include_top=False, weights='imagenet')\n",
    "\n",
    "    # Estrai le feature dalle immagini generate\n",
    "    features = inception_model.predict(generated_images)\n",
    "\n",
    "    # Calcola le previsioni di classe per ogni immagine\n",
    "    class_predictions = tf.nn.softmax(features, axis=-1)\n",
    "\n",
    "    # Calcola l'entropia delle previsioni di classe\n",
    "    entropy = -tf.reduce_sum(class_predictions * tf.math.log(class_predictions + 1e-10), axis=-1)\n",
    "\n",
    "    # Calcola l'Inception Score come media delle entropie delle previsioni di classe\n",
    "    inception_score = tf.math.exp(tf.reduce_mean(entropy))\n",
    "    return inception_score"
   ],
   "metadata": {
    "collapsed": false,
    "ExecuteTime": {
     "end_time": "2023-09-29T07:59:38.338939600Z",
     "start_time": "2023-09-29T07:59:32.735407900Z"
    }
   },
   "id": "cb1c26518da4e298"
  },
  {
   "cell_type": "code",
   "execution_count": 29,
   "outputs": [],
   "source": [
    "# Funzione per valutare il modello utilizzando FID e Inception Score\n",
    "def evaluate_model(conditional_gen, validation_dataset):\n",
    "    fid_scores = []\n",
    "    inception_scores = []\n",
    "\n",
    "    # Itera attraverso il set di dati di validazione\n",
    "    for batch_images, batch_targets in validation_dataset:\n",
    "        img = tf.cast(batch_images, tf.float32)\n",
    "        imgs = normalization(img)\n",
    "        \n",
    "        # Genera le immagini condizionalmente\n",
    "        noise = tf.random.normal([batch_targets.shape[0], latent_dim])\n",
    "        dimensione_target = tf.shape(batch_targets)[0]\n",
    "        new_embedding = tf.tile(embedding, [dimensione_target, 1])\n",
    "        generated_images = conditional_gen([noise, new_embedding], training=False)\n",
    "\n",
    "        # Calcola il FID tra le immagini reali e generate utilizzando il validation_dataset\n",
    "        print('imgs shape', imgs.shape)\n",
    "        fid = calculate_fid(imgs, generated_images)\n",
    "        fid_scores.append(fid)\n",
    "\n",
    "        # Calcola l'Inception Score per le immagini generate\n",
    "        inception_score = calculate_inception_score(generated_images)\n",
    "        inception_scores.append(inception_score)\n",
    "\n",
    "    # Calcola la media dei punteggi FID e Inception Score\n",
    "    average_fid = np.mean(fid_scores)\n",
    "    average_inception_score = np.mean(inception_scores)\n",
    "\n",
    "    return average_fid, average_inception_score"
   ],
   "metadata": {
    "collapsed": false,
    "ExecuteTime": {
     "end_time": "2023-09-29T07:59:42.816460400Z",
     "start_time": "2023-09-29T07:59:42.789429Z"
    }
   },
   "id": "a425278bb21b3e3d"
  },
  {
   "cell_type": "markdown",
   "source": [
    "Definiamo la funzione di train che itera sull'intero dataset impostando le epoche. All'interno, ogni tot epoche verrà effettuata la valutazione del modello tramite FID e INCEPTION score"
   ],
   "metadata": {
    "collapsed": false
   },
   "id": "6fbfbb3218079433"
  },
  {
   "cell_type": "code",
   "execution_count": 22,
   "outputs": [],
   "source": [
    "def train(dataset, epochs, validation_dataset):\n",
    "    \n",
    "    # Verifica se la directory per il salvataggio dei pesi esiste, altrimenti creala\n",
    "    save_dir = 'Dataset/training_weights/Accessories/Belt/Params_Tuning/lr_batch'\n",
    "    if not os.path.exists(save_dir):\n",
    "        os.makedirs(save_dir)\n",
    "    \n",
    "    #Definisci la frequenza di valutazione sul set di validazione (ad esempio, ogni 20 epoche)\n",
    "    validation_interval = 20\n",
    "    for epoch in range(epochs):\n",
    "        start = time.time()\n",
    "        i = 0\n",
    "        D_loss_list, G_loss_list = [], []\n",
    "        fid_list, inception_list = [], []\n",
    "        # Ciclo for che attraversa il mio dataset con dataset che è una collezione di coppie di dati\n",
    "        for image, label in dataset:\n",
    "            # Non devo filtrare niente perchè il dataset è formato da sole immagini di tops\n",
    "                i += 1\n",
    "                img = tf.cast(image, tf.float32)\n",
    "                imgs = normalization(img)\n",
    "                train_step(imgs, label, G_loss_list, D_loss_list)\n",
    "        # Valuta il modello sul set di validazione alla fine di ogni epoca\n",
    "        if (epoch + 1) % validation_interval == 0:\n",
    "            average_fid, average_inception_score = evaluate_model(conditional_gen, validation_dataset)\n",
    "            print(f'Epoch {epoch + 1} - Average FID: {average_fid}, Average Inception Score: {average_inception_score}')\n",
    "            fid_list.append(average_fid)\n",
    "            inception_list.append(average_inception_score)\n",
    "        #display.clear_output(wait=True)\n",
    "        generate_and_save_images(conditional_gen, epoch + 1, seed, save_dir='/content/train/')\n",
    "\n",
    "        # Salva i pesi del modello ogni 20 epoche\n",
    "        if (epoch + 1) % 20 == 0:\n",
    "            conditional_gen.save_weights('Dataset/training_weights/Accessories/Belt/Params_Tuning/lr_batch/gen_'+ str(epoch)+'.h5')\n",
    "            conditional_discriminator.save_weights('Dataset/training_weights/Accessories/Belt/Params_Tuning/lr_batch/disc_'+ str(epoch)+'.h5')\n",
    "\n",
    "        print ('Time for epoch {} is {} sec'.format(epoch + 1, time.time()-start))\n",
    "\n",
    "    # Genera dopo l'ultima epoca\n",
    "    #display.clear_output(wait=True)\n",
    "    generate_and_save_images(conditional_gen,\n",
    "                            epochs,\n",
    "                            seed, save_dir='/content/train/')\n",
    "    \n",
    "    print('Fid List : ', fid_list)\n",
    "    print('Inception list: ', inception_list)\n",
    "    \n",
    "    avg_gen_loss = total_gen_loss / epochs  \n",
    "    avg_disc_loss2 = total_disc_loss2 / epochs  \n",
    "\n",
    "    print(\"Average Generator Loss:\", avg_gen_loss)\n",
    "    print(\"Average Discriminator Loss2:\", avg_disc_loss2)\n",
    "    \n",
    "    return D_loss_list, G_loss_list\n"
   ],
   "metadata": {
    "collapsed": false,
    "ExecuteTime": {
     "end_time": "2023-09-28T13:31:46.083865200Z",
     "start_time": "2023-09-28T13:31:43.881012300Z"
    }
   },
   "id": "ac5677ff3e399f8b"
  },
  {
   "cell_type": "markdown",
   "source": [
    "Definisco la funzione per generare graficamente l'immagine"
   ],
   "metadata": {
    "collapsed": false
   },
   "id": "da53e3cb9883af6e"
  },
  {
   "cell_type": "code",
   "execution_count": 23,
   "outputs": [],
   "source": [
    "# Test input --> seed\n",
    "\n",
    "import os\n",
    "\n",
    "def generate_and_save_images(model, epoch, test_input, save_dir):\n",
    "    # Creare la directory se non esiste\n",
    "    os.makedirs(save_dir, exist_ok=True)\n",
    "\n",
    "    # nota che `training` è settato su False.\n",
    "    # Questo perchè tutti i layers vengono eseguiti in inference mode (batchnorm).\n",
    "\n",
    "\n",
    "    # Io al generatore non passo l'etichetta tops,bottoms,shoes,ecc ma gli passo il mio embedding\n",
    "\n",
    "    predictions = model([test_input, embedding], training=False)\n",
    "    print(predictions.shape)\n",
    "    fig = plt.figure(figsize=(25, 25))\n",
    "\n",
    "    print(\"Generated Images are Conditioned on Embedding of Tops:\")\n",
    "    for i in range(predictions.shape[0]):\n",
    "        plt.subplot(5, 5, i + 1)\n",
    "        pred = (predictions[i, :, :, :] + 1) * 127.5\n",
    "        pred = np.array(pred)\n",
    "        plt.imshow(pred.astype(np.uint8))\n",
    "        plt.axis('off')\n",
    "\n",
    "    # Salvare l'immagine nella directory specificata\n",
    "    image_path = os.path.join(save_dir, 'image_at_epoch_{:d}.png'.format(epoch))\n",
    "    plt.savefig(image_path)\n",
    "    plt.show()\n",
    "\n"
   ],
   "metadata": {
    "collapsed": false,
    "ExecuteTime": {
     "end_time": "2023-09-28T13:31:48.403363300Z",
     "start_time": "2023-09-28T13:31:48.304512700Z"
    }
   },
   "id": "9ed1be20e0b9227c"
  },
  {
   "cell_type": "markdown",
   "source": [
    "Definisco la funzione per generare e visualizzare l'immagine finale del training del modello"
   ],
   "metadata": {
    "collapsed": false
   },
   "id": "8196a01b19a1dd7a"
  },
  {
   "cell_type": "code",
   "execution_count": null,
   "outputs": [],
   "source": [
    "def display_image(image):\n",
    "    # Visualizza un'immagine senza griglia.\n",
    "    plt.imshow(image)\n",
    "    plt.axis('off')\n",
    "    plt.show()\n",
    "\n",
    "def generate_and_display_image(model, test_input):\n",
    "    # Imposta training su False per l'inferenza.\n",
    "    output = model([test_input, embedding], training=False)\n",
    "\n",
    "    # Normalizza e converte l'output in un array numpy di immagine.\n",
    "    pred = (output[0, :, :, :] + 1 ) * 127.5\n",
    "    pred = np.array(pred, dtype=np.uint8)\n",
    "\n",
    "    # Visualizza l'immagine risultato.\n",
    "    display_image(pred)"
   ],
   "metadata": {
    "collapsed": false
   },
   "id": "2c988150f4f27295"
  },
  {
   "cell_type": "code",
   "execution_count": 47,
   "outputs": [],
   "source": [
    "num_examples_to_generate = 1\n",
    "latent_dim = 128\n",
    "noise = tf.random.normal([num_examples_to_generate, latent_dim])"
   ],
   "metadata": {
    "collapsed": false
   },
   "id": "52e8fea4e41de1c4"
  },
  {
   "cell_type": "code",
   "execution_count": null,
   "outputs": [],
   "source": [
    "generate_and_display_image(conditional_gen, noise)"
   ],
   "metadata": {
    "collapsed": false
   },
   "id": "60c6584cf9dff66a"
  },
  {
   "cell_type": "markdown",
   "source": [
    "Effettuiamo il training con lr=0.0002 e batch_size = 32"
   ],
   "metadata": {
    "collapsed": false
   },
   "id": "14cbe7883669ce33"
  },
  {
   "cell_type": "code",
   "execution_count": null,
   "outputs": [],
   "source": [
    "train(dataset_belt, 100, dataset_belt_val)"
   ],
   "metadata": {
    "collapsed": false
   },
   "id": "6cac9a13e6bc09f0"
  },
  {
   "cell_type": "markdown",
   "source": [
    "Ricarichiamo i pesi precedenti dall'epoca 80 per effettuare l'analisi delle performance sul test set"
   ],
   "metadata": {
    "collapsed": false
   },
   "id": "5fcc3c7b74790ecf"
  },
  {
   "cell_type": "code",
   "execution_count": 30,
   "outputs": [],
   "source": [
    "conditional_gen.load_weights('Dataset/training_weights/Accessories/Belt/Params_Tuning/lr_batch/gen_79.h5')\n",
    "conditional_discriminator.load_weights('Dataset/training_weights/Accessories/Belt/Params_Tuning/lr_batch/disc_79.h5')"
   ],
   "metadata": {
    "collapsed": false,
    "ExecuteTime": {
     "end_time": "2023-09-29T08:02:41.157664600Z",
     "start_time": "2023-09-29T08:02:40.962490600Z"
    }
   },
   "id": "e8d531e0fc24b9e7"
  },
  {
   "cell_type": "markdown",
   "source": [
    "Richiamiamo la funzione evaluate model passandogli il nostro conditional gen e il dataset di test"
   ],
   "metadata": {
    "collapsed": false
   },
   "id": "5ccc77853c0803ae"
  },
  {
   "cell_type": "code",
   "execution_count": 31,
   "outputs": [
    {
     "name": "stdout",
     "output_type": "stream",
     "text": [
      "imgs shape (32, 128, 128, 3)\n",
      "1/1 [==============================] - 2s 2s/step\n",
      "1/1 [==============================] - 2s 2s/step\n"
     ]
    },
    {
     "name": "stderr",
     "output_type": "stream",
     "text": [
      "C:\\Users\\marce\\AppData\\Local\\Programs\\Python\\Python310\\lib\\site-packages\\tensorflow\\python\\ops\\gen_math_ops.py:12924: ComplexWarning: Casting complex values to real discards the imaginary part\n",
      "  _result = pywrap_tfe.TFE_Py_FastPathExecute(\n"
     ]
    },
    {
     "name": "stdout",
     "output_type": "stream",
     "text": [
      "1/1 [==============================] - 1s 1s/step\n",
      "imgs shape (32, 128, 128, 3)\n",
      "1/1 [==============================] - 2s 2s/step\n",
      "WARNING:tensorflow:5 out of the last 5 calls to <function Model.make_predict_function.<locals>.predict_function at 0x00000250443B5990> triggered tf.function retracing. Tracing is expensive and the excessive number of tracings could be due to (1) creating @tf.function repeatedly in a loop, (2) passing tensors with different shapes, (3) passing Python objects instead of tensors. For (1), please define your @tf.function outside of the loop. For (2), @tf.function has reduce_retracing=True option that can avoid unnecessary retracing. For (3), please refer to https://www.tensorflow.org/guide/function#controlling_retracing and https://www.tensorflow.org/api_docs/python/tf/function for  more details.\n",
      "1/1 [==============================] - 2s 2s/step\n",
      "WARNING:tensorflow:6 out of the last 6 calls to <function Model.make_predict_function.<locals>.predict_function at 0x00000250443B56C0> triggered tf.function retracing. Tracing is expensive and the excessive number of tracings could be due to (1) creating @tf.function repeatedly in a loop, (2) passing tensors with different shapes, (3) passing Python objects instead of tensors. For (1), please define your @tf.function outside of the loop. For (2), @tf.function has reduce_retracing=True option that can avoid unnecessary retracing. For (3), please refer to https://www.tensorflow.org/guide/function#controlling_retracing and https://www.tensorflow.org/api_docs/python/tf/function for  more details.\n",
      "1/1 [==============================] - 1s 1s/step\n",
      "imgs shape (32, 128, 128, 3)\n",
      "1/1 [==============================] - 2s 2s/step\n",
      "1/1 [==============================] - 2s 2s/step\n",
      "1/1 [==============================] - 1s 1s/step\n",
      "imgs shape (32, 128, 128, 3)\n",
      "1/1 [==============================] - 2s 2s/step\n",
      "1/1 [==============================] - 2s 2s/step\n",
      "1/1 [==============================] - 1s 1s/step\n",
      "imgs shape (32, 128, 128, 3)\n",
      "1/1 [==============================] - 2s 2s/step\n",
      "1/1 [==============================] - 2s 2s/step\n",
      "1/1 [==============================] - 1s 1s/step\n",
      "imgs shape (32, 128, 128, 3)\n",
      "1/1 [==============================] - 2s 2s/step\n",
      "1/1 [==============================] - 2s 2s/step\n",
      "1/1 [==============================] - 1s 1s/step\n",
      "imgs shape (32, 128, 128, 3)\n",
      "1/1 [==============================] - 2s 2s/step\n",
      "1/1 [==============================] - 2s 2s/step\n",
      "1/1 [==============================] - 1s 1s/step\n",
      "imgs shape (32, 128, 128, 3)\n",
      "1/1 [==============================] - 2s 2s/step\n",
      "1/1 [==============================] - 2s 2s/step\n",
      "1/1 [==============================] - 1s 1s/step\n",
      "imgs shape (32, 128, 128, 3)\n",
      "1/1 [==============================] - 2s 2s/step\n",
      "1/1 [==============================] - 2s 2s/step\n",
      "1/1 [==============================] - 1s 1s/step\n",
      "imgs shape (32, 128, 128, 3)\n",
      "1/1 [==============================] - 2s 2s/step\n",
      "1/1 [==============================] - 2s 2s/step\n",
      "1/1 [==============================] - 1s 1s/step\n",
      "imgs shape (32, 128, 128, 3)\n",
      "1/1 [==============================] - 2s 2s/step\n",
      "1/1 [==============================] - 2s 2s/step\n",
      "1/1 [==============================] - 1s 1s/step\n",
      "imgs shape (32, 128, 128, 3)\n",
      "1/1 [==============================] - 2s 2s/step\n",
      "1/1 [==============================] - 2s 2s/step\n",
      "1/1 [==============================] - 1s 1s/step\n",
      "imgs shape (32, 128, 128, 3)\n",
      "1/1 [==============================] - 2s 2s/step\n",
      "1/1 [==============================] - 2s 2s/step\n",
      "1/1 [==============================] - 1s 1s/step\n",
      "imgs shape (32, 128, 128, 3)\n",
      "1/1 [==============================] - 2s 2s/step\n",
      "1/1 [==============================] - 2s 2s/step\n",
      "1/1 [==============================] - 2s 2s/step\n",
      "imgs shape (32, 128, 128, 3)\n",
      "1/1 [==============================] - 2s 2s/step\n",
      "1/1 [==============================] - 2s 2s/step\n",
      "1/1 [==============================] - 2s 2s/step\n",
      "imgs shape (32, 128, 128, 3)\n",
      "1/1 [==============================] - 3s 3s/step\n",
      "1/1 [==============================] - 4s 4s/step\n",
      "1/1 [==============================] - 2s 2s/step\n",
      "imgs shape (4, 128, 128, 3)\n",
      "1/1 [==============================] - 2s 2s/step\n",
      "1/1 [==============================] - 2s 2s/step\n",
      "1/1 [==============================] - 2s 2s/step\n",
      " - Average FID: 29.79337501525879, Average Inception Score: 184.29307556152344\n"
     ]
    }
   ],
   "source": [
    "average_fid, average_inception_score = evaluate_model(conditional_gen, dataset_belt_test)\n",
    "print(f' - Average FID: {average_fid}, Average Inception Score: {average_inception_score}')"
   ],
   "metadata": {
    "collapsed": false,
    "ExecuteTime": {
     "end_time": "2023-09-29T08:11:11.606176800Z",
     "start_time": "2023-09-29T08:05:48.942910600Z"
    }
   },
   "id": "e584f284c6992437"
  }
 ],
 "metadata": {
  "kernelspec": {
   "display_name": "Python 3",
   "language": "python",
   "name": "python3"
  },
  "language_info": {
   "codemirror_mode": {
    "name": "ipython",
    "version": 2
   },
   "file_extension": ".py",
   "mimetype": "text/x-python",
   "name": "python",
   "nbconvert_exporter": "python",
   "pygments_lexer": "ipython2",
   "version": "2.7.6"
  }
 },
 "nbformat": 4,
 "nbformat_minor": 5
}
